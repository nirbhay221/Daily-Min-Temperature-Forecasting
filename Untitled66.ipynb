{
  "nbformat": 4,
  "nbformat_minor": 0,
  "metadata": {
    "colab": {
      "name": "Untitled66.ipynb",
      "provenance": [],
      "collapsed_sections": []
    },
    "kernelspec": {
      "name": "python3",
      "display_name": "Python 3"
    }
  },
  "cells": [
    {
      "cell_type": "code",
      "metadata": {
        "id": "o4_EMDAJVzW3"
      },
      "source": [
        "import tensorflow as tf\n",
        "import numpy as np\n",
        "import matplotlib.pyplot as plt "
      ],
      "execution_count": null,
      "outputs": []
    },
    {
      "cell_type": "code",
      "metadata": {
        "id": "fLIGqASeXNr_"
      },
      "source": [
        "def plot_series(time,series,format='-',start =0,end= None):\n",
        "  plt.plot(time,series,format)\n",
        "  plt.xlabel('Time')\n",
        "  plt.ylabel('Values')\n",
        "  plt.grid(True)"
      ],
      "execution_count": null,
      "outputs": []
    },
    {
      "cell_type": "code",
      "metadata": {
        "id": "IRugZvcaXiY9",
        "outputId": "0ddab97a-d4a0-4ff5-b093-5a09d441636d",
        "colab": {
          "base_uri": "https://localhost:8080/"
        }
      },
      "source": [
        "!wget --no-check-certificate \\\n",
        "    https://raw.githubusercontent.com/jbrownlee/Datasets/master/daily-min-temperatures.csv \\\n",
        "    -O /tmp/daily-min-temperatures.csv"
      ],
      "execution_count": null,
      "outputs": [
        {
          "output_type": "stream",
          "text": [
            "--2020-11-08 12:58:11--  https://raw.githubusercontent.com/jbrownlee/Datasets/master/daily-min-temperatures.csv\n",
            "Resolving raw.githubusercontent.com (raw.githubusercontent.com)... 151.101.0.133, 151.101.64.133, 151.101.128.133, ...\n",
            "Connecting to raw.githubusercontent.com (raw.githubusercontent.com)|151.101.0.133|:443... connected.\n",
            "HTTP request sent, awaiting response... 200 OK\n",
            "Length: 67921 (66K) [text/plain]\n",
            "Saving to: ‘/tmp/daily-min-temperatures.csv’\n",
            "\n",
            "/tmp/daily-min-temp 100%[===================>]  66.33K  --.-KB/s    in 0.009s  \n",
            "\n",
            "2020-11-08 12:58:11 (6.88 MB/s) - ‘/tmp/daily-min-temperatures.csv’ saved [67921/67921]\n",
            "\n"
          ],
          "name": "stdout"
        }
      ]
    },
    {
      "cell_type": "code",
      "metadata": {
        "id": "MkaTIH57Xkvi",
        "outputId": "8afb6091-08c1-4a49-b2d7-ab9b1d9f5ddb",
        "colab": {
          "base_uri": "https://localhost:8080/",
          "height": 197
        }
      },
      "source": [
        "import csv \n",
        "import pandas as pd\n",
        "sunspots = []\n",
        "timesteps = []\n",
        "df = pd.read_csv('/tmp/daily-min-temperatures.csv')\n",
        "df.head()"
      ],
      "execution_count": null,
      "outputs": [
        {
          "output_type": "execute_result",
          "data": {
            "text/html": [
              "<div>\n",
              "<style scoped>\n",
              "    .dataframe tbody tr th:only-of-type {\n",
              "        vertical-align: middle;\n",
              "    }\n",
              "\n",
              "    .dataframe tbody tr th {\n",
              "        vertical-align: top;\n",
              "    }\n",
              "\n",
              "    .dataframe thead th {\n",
              "        text-align: right;\n",
              "    }\n",
              "</style>\n",
              "<table border=\"1\" class=\"dataframe\">\n",
              "  <thead>\n",
              "    <tr style=\"text-align: right;\">\n",
              "      <th></th>\n",
              "      <th>Date</th>\n",
              "      <th>Temp</th>\n",
              "    </tr>\n",
              "  </thead>\n",
              "  <tbody>\n",
              "    <tr>\n",
              "      <th>0</th>\n",
              "      <td>1981-01-01</td>\n",
              "      <td>20.7</td>\n",
              "    </tr>\n",
              "    <tr>\n",
              "      <th>1</th>\n",
              "      <td>1981-01-02</td>\n",
              "      <td>17.9</td>\n",
              "    </tr>\n",
              "    <tr>\n",
              "      <th>2</th>\n",
              "      <td>1981-01-03</td>\n",
              "      <td>18.8</td>\n",
              "    </tr>\n",
              "    <tr>\n",
              "      <th>3</th>\n",
              "      <td>1981-01-04</td>\n",
              "      <td>14.6</td>\n",
              "    </tr>\n",
              "    <tr>\n",
              "      <th>4</th>\n",
              "      <td>1981-01-05</td>\n",
              "      <td>15.8</td>\n",
              "    </tr>\n",
              "  </tbody>\n",
              "</table>\n",
              "</div>"
            ],
            "text/plain": [
              "         Date  Temp\n",
              "0  1981-01-01  20.7\n",
              "1  1981-01-02  17.9\n",
              "2  1981-01-03  18.8\n",
              "3  1981-01-04  14.6\n",
              "4  1981-01-05  15.8"
            ]
          },
          "metadata": {
            "tags": []
          },
          "execution_count": 82
        }
      ]
    },
    {
      "cell_type": "code",
      "metadata": {
        "id": "-toCkgs2X3F_",
        "outputId": "d992beaa-0878-456d-9ba1-6843eabe6406",
        "colab": {
          "base_uri": "https://localhost:8080/",
          "height": 320
        }
      },
      "source": [
        "with open('/tmp/daily-min-temperatures.csv') as csv_file:\n",
        "  reader = csv.reader(csv_file,delimiter = ',')\n",
        "  next(reader)\n",
        "  x=0\n",
        "  for row in reader:\n",
        "    timesteps.append(int(x))\n",
        "    sunspots.append(float(row[1]))\n",
        "    x=x+1\n",
        "  time =np.array(timesteps)\n",
        "  series = np.array(sunspots)\n",
        "  plt.figure(figsize=(10,5))\n",
        "  plt.plot(time,series)\n",
        "  "
      ],
      "execution_count": null,
      "outputs": [
        {
          "output_type": "display_data",
          "data": {
            "image/png": "[encoded data removed]",
            "text/plain": [
              "<Figure size 720x360 with 1 Axes>"
            ]
          },
          "metadata": {
            "tags": [],
            "needs_background": "light"
          }
        }
      ]
    },
    {
      "cell_type": "code",
      "metadata": {
        "id": "T1TRcr_6YsLO"
      },
      "source": [
        "split_time =2500\n",
        "time_train= time[:split_time]\n",
        "time_valid = time[split_time:]\n",
        "x_train = series[:split_time]\n",
        "x_valid = series[split_time:]"
      ],
      "execution_count": null,
      "outputs": []
    },
    {
      "cell_type": "code",
      "metadata": {
        "id": "-YYwIlJGaUx1"
      },
      "source": [
        "window_size= 30\n",
        "batch_size= 32\n",
        "shuffle_buffer_size=1000"
      ],
      "execution_count": null,
      "outputs": []
    },
    {
      "cell_type": "code",
      "metadata": {
        "id": "S-wawal6b3kT"
      },
      "source": [
        "def windowed_dataset(series,window_size,batch_size,shuffle_buffer):\n",
        "  series = tf.expand_dims(series,axis=-1)\n",
        "  dataset = tf.data.Dataset.from_tensor_slices(series)\n",
        "  dataset = dataset.window(window_size+1,shift=1,drop_remainder = True)\n",
        "  dataset= dataset.flat_map(lambda window: window.batch(window_size+1))\n",
        "  dataset= dataset.shuffle(shuffle_buffer).map(lambda window: (window[:-1],window[-1]))\n",
        "  dataset = dataset.batch(batch_size).prefetch(1)\n",
        "  return dataset"
      ],
      "execution_count": null,
      "outputs": []
    },
    {
      "cell_type": "code",
      "metadata": {
        "id": "F8zu83oncorA"
      },
      "source": [
        "def model_forecast(model,series,window_size):\n",
        "  dataset = tf.data.Dataset.from_tensor_slices(series)\n",
        "  dataset = dataset.window(window_size,shift=1,drop_remainder =True)\n",
        "  dataset = dataset.flat_map(lambda window: window.batch(window_size))\n",
        "  dataset= dataset.batch(32).prefetch(1)\n",
        "  forecast = model.predict(dataset)\n",
        "  return forecast"
      ],
      "execution_count": null,
      "outputs": []
    },
    {
      "cell_type": "code",
      "metadata": {
        "id": "-a6WhQOBdVOd"
      },
      "source": [
        "tf.keras.backend.clear_session()\n",
        "tf.random.set_seed(51)\n",
        "np.random.seed(51)\n",
        "window_size=64 \n",
        "batch_size =256\n",
        "dataset= windowed_dataset(x_train,window_size,batch_size,shuffle_buffer= shuffle_buffer_size)"
      ],
      "execution_count": null,
      "outputs": []
    },
    {
      "cell_type": "code",
      "metadata": {
        "id": "uKrwC6b6d2AG"
      },
      "source": [
        "model = tf.keras.models.Sequential([\n",
        "        tf.keras.layers.Conv1D(filters =32,kernel_size=5,strides=1,padding='causal',activation='relu',input_shape =[None,1]),\n",
        "        tf.keras.layers.Bidirectional(tf.keras.layers.LSTM(32,return_sequences=True)),\n",
        "        tf.keras.layers.Bidirectional(tf.keras.layers.LSTM(32,return_sequences=True)),\n",
        "        tf.keras.layers.Dense(30,activation='relu'),\n",
        "        tf.keras.layers.Dense(10,activation ='relu'),\n",
        "        tf.keras.layers.Dense(1),\n",
        "        tf.keras.layers.Lambda(lambda x: x*400)     \n",
        "])"
      ],
      "execution_count": null,
      "outputs": []
    },
    {
      "cell_type": "code",
      "metadata": {
        "id": "RyRhPi03fyL5"
      },
      "source": [
        "lr_scheduler = tf.keras.callbacks.LearningRateScheduler(lambda epochs: 1e-8*10**(epochs/20))"
      ],
      "execution_count": null,
      "outputs": []
    },
    {
      "cell_type": "code",
      "metadata": {
        "id": "R4IfmxwKf99e"
      },
      "source": [
        "model.compile(loss= tf.keras.losses.Huber(),metrics=['mae'],optimizer= tf.keras.optimizers.SGD(lr=1e-8,momentum = 0.9))"
      ],
      "execution_count": null,
      "outputs": []
    },
    {
      "cell_type": "code",
      "metadata": {
        "id": "4Et4v-dFgUC4",
        "outputId": "9a7d0ae4-df5d-4924-bda2-fbe5cc2c867f",
        "colab": {
          "base_uri": "https://localhost:8080/"
        }
      },
      "source": [
        "history=model.fit(dataset,epochs = 100,callbacks=[lr_scheduler])"
      ],
      "execution_count": null,
      "outputs": [
        {
          "output_type": "stream",
          "text": [
            "Epoch 1/100\n",
            "10/10 [==============================] - 2s 195ms/step - loss: 71.2569 - mae: 71.7562\n",
            "Epoch 2/100\n",
            "10/10 [==============================] - 2s 200ms/step - loss: 97.3739 - mae: 97.8739\n",
            "Epoch 3/100\n",
            "10/10 [==============================] - 2s 191ms/step - loss: 152.4464 - mae: 152.9464\n",
            "Epoch 4/100\n",
            "10/10 [==============================] - 2s 195ms/step - loss: 171.5166 - mae: 172.0166\n",
            "Epoch 5/100\n",
            "10/10 [==============================] - 2s 198ms/step - loss: 178.0173 - mae: 178.5173\n",
            "Epoch 6/100\n",
            "10/10 [==============================] - 2s 196ms/step - loss: 180.1173 - mae: 180.6173\n",
            "Epoch 7/100\n",
            "10/10 [==============================] - 2s 197ms/step - loss: 180.6625 - mae: 181.1625\n",
            "Epoch 8/100\n",
            "10/10 [==============================] - 2s 195ms/step - loss: 180.6427 - mae: 181.1427\n",
            "Epoch 9/100\n",
            "10/10 [==============================] - 2s 201ms/step - loss: 180.4003 - mae: 180.9003\n",
            "Epoch 10/100\n",
            "10/10 [==============================] - 2s 202ms/step - loss: 180.0516 - mae: 180.5516\n",
            "Epoch 11/100\n",
            "10/10 [==============================] - 2s 195ms/step - loss: 179.6335 - mae: 180.1335\n",
            "Epoch 12/100\n",
            "10/10 [==============================] - 2s 195ms/step - loss: 179.1551 - mae: 179.6551\n",
            "Epoch 13/100\n",
            "10/10 [==============================] - 2s 201ms/step - loss: 178.6151 - mae: 179.1151\n",
            "Epoch 14/100\n",
            "10/10 [==============================] - 2s 196ms/step - loss: 178.0080 - mae: 178.5080\n",
            "Epoch 15/100\n",
            "10/10 [==============================] - 2s 209ms/step - loss: 177.3265 - mae: 177.8265\n",
            "Epoch 16/100\n",
            "10/10 [==============================] - 2s 197ms/step - loss: 176.5617 - mae: 177.0617\n",
            "Epoch 17/100\n",
            "10/10 [==============================] - 2s 202ms/step - loss: 175.7035 - mae: 176.2035\n",
            "Epoch 18/100\n",
            "10/10 [==============================] - 2s 212ms/step - loss: 174.7406 - mae: 175.2406\n",
            "Epoch 19/100\n",
            "10/10 [==============================] - 2s 204ms/step - loss: 173.6602 - mae: 174.1602\n",
            "Epoch 20/100\n",
            "10/10 [==============================] - 2s 200ms/step - loss: 172.4479 - mae: 172.9479\n",
            "Epoch 21/100\n",
            "10/10 [==============================] - 2s 192ms/step - loss: 171.0878 - mae: 171.5878\n",
            "Epoch 22/100\n",
            "10/10 [==============================] - 2s 196ms/step - loss: 169.5617 - mae: 170.0617\n",
            "Epoch 23/100\n",
            "10/10 [==============================] - 2s 198ms/step - loss: 167.8493 - mae: 168.3493\n",
            "Epoch 24/100\n",
            "10/10 [==============================] - 2s 189ms/step - loss: 165.9280 - mae: 166.4280\n",
            "Epoch 25/100\n",
            "10/10 [==============================] - 2s 193ms/step - loss: 163.7723 - mae: 164.2723\n",
            "Epoch 26/100\n",
            "10/10 [==============================] - 2s 195ms/step - loss: 161.3535 - mae: 161.8535\n",
            "Epoch 27/100\n",
            "10/10 [==============================] - 2s 195ms/step - loss: 158.6396 - mae: 159.1396\n",
            "Epoch 28/100\n",
            "10/10 [==============================] - 2s 194ms/step - loss: 155.5946 - mae: 156.0946\n",
            "Epoch 29/100\n",
            "10/10 [==============================] - 2s 201ms/step - loss: 152.1780 - mae: 152.6780\n",
            "Epoch 30/100\n",
            "10/10 [==============================] - 2s 198ms/step - loss: 148.3446 - mae: 148.8446\n",
            "Epoch 31/100\n",
            "10/10 [==============================] - 2s 196ms/step - loss: 144.0433 - mae: 144.5433\n",
            "Epoch 32/100\n",
            "10/10 [==============================] - 2s 206ms/step - loss: 139.2173 - mae: 139.7173\n",
            "Epoch 33/100\n",
            "10/10 [==============================] - 2s 198ms/step - loss: 133.8024 - mae: 134.3024\n",
            "Epoch 34/100\n",
            "10/10 [==============================] - 2s 193ms/step - loss: 127.7267 - mae: 128.2267\n",
            "Epoch 35/100\n",
            "10/10 [==============================] - 2s 199ms/step - loss: 120.9097 - mae: 121.4097\n",
            "Epoch 36/100\n",
            "10/10 [==============================] - 2s 199ms/step - loss: 113.2610 - mae: 113.7610\n",
            "Epoch 37/100\n",
            "10/10 [==============================] - 2s 201ms/step - loss: 104.6789 - mae: 105.1789\n",
            "Epoch 38/100\n",
            "10/10 [==============================] - 2s 199ms/step - loss: 95.0496 - mae: 95.5496\n",
            "Epoch 39/100\n",
            "10/10 [==============================] - 2s 200ms/step - loss: 84.2455 - mae: 84.7455\n",
            "Epoch 40/100\n",
            "10/10 [==============================] - 2s 198ms/step - loss: 72.1230 - mae: 72.6230\n",
            "Epoch 41/100\n",
            "10/10 [==============================] - 2s 195ms/step - loss: 58.5213 - mae: 59.0213\n",
            "Epoch 42/100\n",
            "10/10 [==============================] - 2s 192ms/step - loss: 43.2600 - mae: 43.7600\n",
            "Epoch 43/100\n",
            "10/10 [==============================] - 2s 203ms/step - loss: 26.1365 - mae: 26.6365\n",
            "Epoch 44/100\n",
            "10/10 [==============================] - 2s 201ms/step - loss: 7.8865 - mae: 8.3730\n",
            "Epoch 45/100\n",
            "10/10 [==============================] - 2s 194ms/step - loss: 5.0605 - mae: 5.5444\n",
            "Epoch 46/100\n",
            "10/10 [==============================] - 2s 194ms/step - loss: 3.0590 - mae: 3.5272\n",
            "Epoch 47/100\n",
            "10/10 [==============================] - 2s 193ms/step - loss: 2.9533 - mae: 3.4213\n",
            "Epoch 48/100\n",
            "10/10 [==============================] - 2s 196ms/step - loss: 2.7941 - mae: 3.2627\n",
            "Epoch 49/100\n",
            "10/10 [==============================] - 2s 195ms/step - loss: 2.7366 - mae: 3.2028\n",
            "Epoch 50/100\n",
            "10/10 [==============================] - 2s 194ms/step - loss: 2.7182 - mae: 3.1853\n",
            "Epoch 51/100\n",
            "10/10 [==============================] - 2s 194ms/step - loss: 2.7141 - mae: 3.1801\n",
            "Epoch 52/100\n",
            "10/10 [==============================] - 2s 201ms/step - loss: 2.7266 - mae: 3.1930\n",
            "Epoch 53/100\n",
            "10/10 [==============================] - 2s 204ms/step - loss: 2.7252 - mae: 3.1893\n",
            "Epoch 54/100\n",
            "10/10 [==============================] - 2s 203ms/step - loss: 2.7263 - mae: 3.1943\n",
            "Epoch 55/100\n",
            "10/10 [==============================] - 2s 203ms/step - loss: 2.7320 - mae: 3.1985\n",
            "Epoch 56/100\n",
            "10/10 [==============================] - 2s 193ms/step - loss: 2.7223 - mae: 3.1892\n",
            "Epoch 57/100\n",
            "10/10 [==============================] - 2s 191ms/step - loss: 2.7267 - mae: 3.1919\n",
            "Epoch 58/100\n",
            "10/10 [==============================] - 2s 203ms/step - loss: 2.7380 - mae: 3.2029\n",
            "Epoch 59/100\n",
            "10/10 [==============================] - 2s 200ms/step - loss: 2.7313 - mae: 3.1972\n",
            "Epoch 60/100\n",
            "10/10 [==============================] - 2s 190ms/step - loss: 2.7176 - mae: 3.1845\n",
            "Epoch 61/100\n",
            "10/10 [==============================] - 2s 199ms/step - loss: 2.7205 - mae: 3.1860\n",
            "Epoch 62/100\n",
            "10/10 [==============================] - 2s 201ms/step - loss: 2.7345 - mae: 3.2000\n",
            "Epoch 63/100\n",
            "10/10 [==============================] - 2s 197ms/step - loss: 2.7361 - mae: 3.2019\n",
            "Epoch 64/100\n",
            "10/10 [==============================] - 2s 193ms/step - loss: 2.7269 - mae: 3.1926\n",
            "Epoch 65/100\n",
            "10/10 [==============================] - 2s 203ms/step - loss: 2.7384 - mae: 3.2061\n",
            "Epoch 66/100\n",
            "10/10 [==============================] - 2s 199ms/step - loss: 2.7375 - mae: 3.2039\n",
            "Epoch 67/100\n",
            "10/10 [==============================] - 2s 204ms/step - loss: 2.8032 - mae: 3.2730\n",
            "Epoch 68/100\n",
            "10/10 [==============================] - 2s 192ms/step - loss: 2.7668 - mae: 3.2347\n",
            "Epoch 69/100\n",
            "10/10 [==============================] - 2s 195ms/step - loss: 2.7383 - mae: 3.2041\n",
            "Epoch 70/100\n",
            "10/10 [==============================] - 2s 194ms/step - loss: 2.7421 - mae: 3.2102\n",
            "Epoch 71/100\n",
            "10/10 [==============================] - 2s 198ms/step - loss: 2.7296 - mae: 3.1966\n",
            "Epoch 72/100\n",
            "10/10 [==============================] - 2s 196ms/step - loss: 2.7136 - mae: 3.1806\n",
            "Epoch 73/100\n",
            "10/10 [==============================] - 2s 194ms/step - loss: 2.7211 - mae: 3.1874\n",
            "Epoch 74/100\n",
            "10/10 [==============================] - 2s 199ms/step - loss: 2.7989 - mae: 3.2653\n",
            "Epoch 75/100\n",
            "10/10 [==============================] - 2s 200ms/step - loss: 2.7939 - mae: 3.2613\n",
            "Epoch 76/100\n",
            "10/10 [==============================] - 2s 202ms/step - loss: 2.7735 - mae: 3.2427\n",
            "Epoch 77/100\n",
            "10/10 [==============================] - 2s 194ms/step - loss: 2.7118 - mae: 3.1770\n",
            "Epoch 78/100\n",
            "10/10 [==============================] - 2s 195ms/step - loss: 2.9536 - mae: 3.4268\n",
            "Epoch 79/100\n",
            "10/10 [==============================] - 2s 193ms/step - loss: 2.9738 - mae: 3.4418\n",
            "Epoch 80/100\n",
            "10/10 [==============================] - 2s 200ms/step - loss: 3.0171 - mae: 3.4870\n",
            "Epoch 81/100\n",
            "10/10 [==============================] - 2s 199ms/step - loss: 3.0337 - mae: 3.5028\n",
            "Epoch 82/100\n",
            "10/10 [==============================] - 2s 198ms/step - loss: 3.8235 - mae: 4.2997\n",
            "Epoch 83/100\n",
            "10/10 [==============================] - 2s 200ms/step - loss: 3.9157 - mae: 4.3938\n",
            "Epoch 84/100\n",
            "10/10 [==============================] - 2s 194ms/step - loss: 5.9785 - mae: 6.4609\n",
            "Epoch 85/100\n",
            "10/10 [==============================] - 2s 197ms/step - loss: 12.7401 - mae: 13.2373\n",
            "Epoch 86/100\n",
            "10/10 [==============================] - 2s 197ms/step - loss: 14.4791 - mae: 14.9775\n",
            "Epoch 87/100\n",
            "10/10 [==============================] - 2s 200ms/step - loss: 16.3780 - mae: 16.8778\n",
            "Epoch 88/100\n",
            "10/10 [==============================] - 2s 200ms/step - loss: 17.8286 - mae: 18.3280\n",
            "Epoch 89/100\n",
            "10/10 [==============================] - 2s 194ms/step - loss: 20.6461 - mae: 21.1461\n",
            "Epoch 90/100\n",
            "10/10 [==============================] - 2s 196ms/step - loss: 22.9942 - mae: 23.4942\n",
            "Epoch 91/100\n",
            "10/10 [==============================] - 2s 196ms/step - loss: 25.9784 - mae: 26.4784\n",
            "Epoch 92/100\n",
            "10/10 [==============================] - 2s 194ms/step - loss: 29.1515 - mae: 29.6515\n",
            "Epoch 93/100\n",
            "10/10 [==============================] - 2s 197ms/step - loss: 32.8355 - mae: 33.3355\n",
            "Epoch 94/100\n",
            "10/10 [==============================] - 2s 202ms/step - loss: 36.8043 - mae: 37.3043\n",
            "Epoch 95/100\n",
            "10/10 [==============================] - 2s 194ms/step - loss: 41.4144 - mae: 41.9144\n",
            "Epoch 96/100\n",
            "10/10 [==============================] - 2s 203ms/step - loss: 46.4911 - mae: 46.9911\n",
            "Epoch 97/100\n",
            "10/10 [==============================] - 2s 196ms/step - loss: 52.2551 - mae: 52.7551\n",
            "Epoch 98/100\n",
            "10/10 [==============================] - 2s 196ms/step - loss: 58.6579 - mae: 59.1579\n",
            "Epoch 99/100\n",
            "10/10 [==============================] - 2s 198ms/step - loss: 65.9337 - mae: 66.4337\n",
            "Epoch 100/100\n",
            "10/10 [==============================] - 2s 200ms/step - loss: 73.8314 - mae: 74.3314\n"
          ],
          "name": "stdout"
        }
      ]
    },
    {
      "cell_type": "code",
      "metadata": {
        "id": "4ZFBMVoegZTg",
        "outputId": "3c215f04-f389-4f01-e669-24961a19dd89",
        "colab": {
          "base_uri": "https://localhost:8080/",
          "height": 285
        }
      },
      "source": [
        "plt.semilogx(history.history['lr'],history.history['loss'])"
      ],
      "execution_count": null,
      "outputs": [
        {
          "output_type": "execute_result",
          "data": {
            "text/plain": [
              "[<matplotlib.lines.Line2D at 0x7f467effc5f8>]"
            ]
          },
          "metadata": {
            "tags": []
          },
          "execution_count": 96
        },
        {
          "output_type": "display_data",
          "data": {
            "image/png": "[encoded data removed]",
            "text/plain": [
              "<Figure size 432x288 with 1 Axes>"
            ]
          },
          "metadata": {
            "tags": [],
            "needs_background": "light"
          }
        }
      ]
    },
    {
      "cell_type": "code",
      "metadata": {
        "id": "MhFxj2blGASN"
      },
      "source": [
        "tf.keras.backend.clear_session()\n",
        "tf.random.set_seed(51)\n",
        "np.random.seed(51)\n",
        "dataset = windowed_dataset(x_train,window_size=50,batch_size=42,shuffle_buffer=shuffle_buffer_size)"
      ],
      "execution_count": null,
      "outputs": []
    },
    {
      "cell_type": "code",
      "metadata": {
        "id": "rsisubgVGAZT"
      },
      "source": [
        "model = tf.keras.models.Sequential([\n",
        "                                    tf.keras.layers.Conv1D(filters=80,kernel_size=3,strides=1,padding='causal',activation='relu',input_shape=[None,1]),\n",
        "                                    tf.keras.layers.Bidirectional(tf.keras.layers.LSTM(30,return_sequences=True)),\n",
        "                                    tf.keras.layers.Bidirectional(tf.keras.layers.LSTM(30,return_sequences=True)),\n",
        "                                    tf.keras.layers.Dense(30,activation='relu'),\n",
        "                                    tf.keras.layers.Dense(10,activation = 'relu'),\n",
        "                                    tf.keras.layers.Dense(1),\n",
        "                                    tf.keras.layers.Lambda(lambda x: x*400)\n",
        "])"
      ],
      "execution_count": null,
      "outputs": []
    },
    {
      "cell_type": "code",
      "metadata": {
        "id": "6LTXRR9CGAYc"
      },
      "source": [
        "model.compile(loss=tf.keras.losses.Huber(),optimizer= tf.keras.optimizers.SGD(lr=1e-5,momentum=0.9),metrics= ['mae'])"
      ],
      "execution_count": null,
      "outputs": []
    },
    {
      "cell_type": "code",
      "metadata": {
        "id": "NUy8nDLOGANS",
        "outputId": "03f8d0e7-cba5-46ef-9660-3c8c67c02713",
        "colab": {
          "base_uri": "https://localhost:8080/"
        }
      },
      "source": [
        "history= model.fit(dataset,epochs= 150)"
      ],
      "execution_count": null,
      "outputs": [
        {
          "output_type": "stream",
          "text": [
            "Epoch 1/150\n",
            "59/59 [==============================] - 4s 68ms/step - loss: 4.9717 - mae: 5.4471\n",
            "Epoch 2/150\n",
            "59/59 [==============================] - 4s 68ms/step - loss: 2.2665 - mae: 2.7259\n",
            "Epoch 3/150\n",
            "59/59 [==============================] - 4s 69ms/step - loss: 2.3667 - mae: 2.8291\n",
            "Epoch 4/150\n",
            "59/59 [==============================] - 4s 69ms/step - loss: 2.3068 - mae: 2.7684\n",
            "Epoch 5/150\n",
            "59/59 [==============================] - 4s 69ms/step - loss: 2.3331 - mae: 2.7943\n",
            "Epoch 6/150\n",
            "59/59 [==============================] - 4s 68ms/step - loss: 2.1123 - mae: 2.5703\n",
            "Epoch 7/150\n",
            "59/59 [==============================] - 4s 69ms/step - loss: 2.0846 - mae: 2.5407\n",
            "Epoch 8/150\n",
            "59/59 [==============================] - 4s 70ms/step - loss: 1.9621 - mae: 2.4170\n",
            "Epoch 9/150\n",
            "59/59 [==============================] - 4s 71ms/step - loss: 2.0557 - mae: 2.5113\n",
            "Epoch 10/150\n",
            "59/59 [==============================] - 4s 70ms/step - loss: 2.0888 - mae: 2.5460\n",
            "Epoch 11/150\n",
            "59/59 [==============================] - 7s 119ms/step - loss: 2.2132 - mae: 2.6724\n",
            "Epoch 12/150\n",
            "59/59 [==============================] - 4s 68ms/step - loss: 2.0181 - mae: 2.4758\n",
            "Epoch 13/150\n",
            "59/59 [==============================] - 4s 67ms/step - loss: 1.9569 - mae: 2.4137\n",
            "Epoch 14/150\n",
            "59/59 [==============================] - 4s 67ms/step - loss: 2.2144 - mae: 2.6751\n",
            "Epoch 15/150\n",
            "59/59 [==============================] - 4s 68ms/step - loss: 2.2425 - mae: 2.7033\n",
            "Epoch 16/150\n",
            "59/59 [==============================] - 4s 67ms/step - loss: 2.0971 - mae: 2.5535\n",
            "Epoch 17/150\n",
            "59/59 [==============================] - 4s 67ms/step - loss: 2.0530 - mae: 2.5115\n",
            "Epoch 18/150\n",
            "59/59 [==============================] - 4s 68ms/step - loss: 1.8903 - mae: 2.3433\n",
            "Epoch 19/150\n",
            "59/59 [==============================] - 4s 67ms/step - loss: 2.0153 - mae: 2.4708\n",
            "Epoch 20/150\n",
            "59/59 [==============================] - 4s 68ms/step - loss: 2.1627 - mae: 2.6234\n",
            "Epoch 21/150\n",
            "59/59 [==============================] - 4s 67ms/step - loss: 2.0756 - mae: 2.5336\n",
            "Epoch 22/150\n",
            "59/59 [==============================] - 4s 68ms/step - loss: 2.1005 - mae: 2.5589\n",
            "Epoch 23/150\n",
            "59/59 [==============================] - 4s 67ms/step - loss: 2.1847 - mae: 2.6452\n",
            "Epoch 24/150\n",
            "59/59 [==============================] - 4s 67ms/step - loss: 1.9894 - mae: 2.4454\n",
            "Epoch 25/150\n",
            "59/59 [==============================] - 4s 68ms/step - loss: 1.8348 - mae: 2.2880\n",
            "Epoch 26/150\n",
            "59/59 [==============================] - 4s 67ms/step - loss: 1.8600 - mae: 2.3130\n",
            "Epoch 27/150\n",
            "59/59 [==============================] - 4s 68ms/step - loss: 1.8805 - mae: 2.3349\n",
            "Epoch 28/150\n",
            "59/59 [==============================] - 4s 68ms/step - loss: 1.9800 - mae: 2.4369\n",
            "Epoch 29/150\n",
            "59/59 [==============================] - 4s 68ms/step - loss: 2.0030 - mae: 2.4604\n",
            "Epoch 30/150\n",
            "59/59 [==============================] - 4s 68ms/step - loss: 2.0481 - mae: 2.5074\n",
            "Epoch 31/150\n",
            "59/59 [==============================] - 4s 68ms/step - loss: 1.9002 - mae: 2.3542\n",
            "Epoch 32/150\n",
            "59/59 [==============================] - 4s 68ms/step - loss: 1.9503 - mae: 2.4042\n",
            "Epoch 33/150\n",
            "59/59 [==============================] - 4s 68ms/step - loss: 1.8440 - mae: 2.2956\n",
            "Epoch 34/150\n",
            "59/59 [==============================] - 4s 67ms/step - loss: 1.7907 - mae: 2.2413\n",
            "Epoch 35/150\n",
            "59/59 [==============================] - 4s 68ms/step - loss: 1.8437 - mae: 2.2961\n",
            "Epoch 36/150\n",
            "59/59 [==============================] - 4s 67ms/step - loss: 1.9113 - mae: 2.3660\n",
            "Epoch 37/150\n",
            "59/59 [==============================] - 4s 68ms/step - loss: 1.9313 - mae: 2.3868\n",
            "Epoch 38/150\n",
            "59/59 [==============================] - 4s 68ms/step - loss: 1.9334 - mae: 2.3886\n",
            "Epoch 39/150\n",
            "59/59 [==============================] - 4s 68ms/step - loss: 1.7898 - mae: 2.2416\n",
            "Epoch 40/150\n",
            "59/59 [==============================] - 4s 68ms/step - loss: 1.7933 - mae: 2.2437\n",
            "Epoch 41/150\n",
            "59/59 [==============================] - 4s 68ms/step - loss: 1.7728 - mae: 2.2221\n",
            "Epoch 42/150\n",
            "59/59 [==============================] - 4s 68ms/step - loss: 1.7916 - mae: 2.2400\n",
            "Epoch 43/150\n",
            "59/59 [==============================] - 4s 69ms/step - loss: 2.0002 - mae: 2.4550\n",
            "Epoch 44/150\n",
            "59/59 [==============================] - 4s 68ms/step - loss: 1.8723 - mae: 2.3259\n",
            "Epoch 45/150\n",
            "59/59 [==============================] - 4s 68ms/step - loss: 1.7707 - mae: 2.2205\n",
            "Epoch 46/150\n",
            "59/59 [==============================] - 4s 68ms/step - loss: 1.8269 - mae: 2.2817\n",
            "Epoch 47/150\n",
            "59/59 [==============================] - 4s 68ms/step - loss: 1.8512 - mae: 2.3046\n",
            "Epoch 48/150\n",
            "59/59 [==============================] - 4s 68ms/step - loss: 1.7890 - mae: 2.2388\n",
            "Epoch 49/150\n",
            "59/59 [==============================] - 4s 67ms/step - loss: 1.8106 - mae: 2.2625\n",
            "Epoch 50/150\n",
            "59/59 [==============================] - 4s 68ms/step - loss: 1.9483 - mae: 2.4038\n",
            "Epoch 51/150\n",
            "59/59 [==============================] - 4s 67ms/step - loss: 1.7473 - mae: 2.1975\n",
            "Epoch 52/150\n",
            "59/59 [==============================] - 4s 68ms/step - loss: 1.8877 - mae: 2.3417\n",
            "Epoch 53/150\n",
            "59/59 [==============================] - 4s 68ms/step - loss: 1.8244 - mae: 2.2777\n",
            "Epoch 54/150\n",
            "59/59 [==============================] - 4s 68ms/step - loss: 1.7349 - mae: 2.1851\n",
            "Epoch 55/150\n",
            "59/59 [==============================] - 4s 68ms/step - loss: 1.9304 - mae: 2.3858\n",
            "Epoch 56/150\n",
            "59/59 [==============================] - 4s 67ms/step - loss: 1.7871 - mae: 2.2358\n",
            "Epoch 57/150\n",
            "59/59 [==============================] - 4s 68ms/step - loss: 1.7720 - mae: 2.2219\n",
            "Epoch 58/150\n",
            "59/59 [==============================] - 4s 68ms/step - loss: 1.9113 - mae: 2.3647\n",
            "Epoch 59/150\n",
            "59/59 [==============================] - 4s 68ms/step - loss: 1.8931 - mae: 2.3456\n",
            "Epoch 60/150\n",
            "59/59 [==============================] - 4s 68ms/step - loss: 1.9000 - mae: 2.3533\n",
            "Epoch 61/150\n",
            "59/59 [==============================] - 4s 69ms/step - loss: 1.7357 - mae: 2.1848\n",
            "Epoch 62/150\n",
            "59/59 [==============================] - 4s 68ms/step - loss: 1.7621 - mae: 2.2120\n",
            "Epoch 63/150\n",
            "59/59 [==============================] - 4s 68ms/step - loss: 1.8407 - mae: 2.2946\n",
            "Epoch 64/150\n",
            "59/59 [==============================] - 4s 68ms/step - loss: 1.9498 - mae: 2.4049\n",
            "Epoch 65/150\n",
            "59/59 [==============================] - 4s 68ms/step - loss: 2.2525 - mae: 2.7152\n",
            "Epoch 66/150\n",
            "59/59 [==============================] - 4s 68ms/step - loss: 1.8509 - mae: 2.3047\n",
            "Epoch 67/150\n",
            "59/59 [==============================] - 4s 68ms/step - loss: 1.6940 - mae: 2.1421\n",
            "Epoch 68/150\n",
            "59/59 [==============================] - 4s 68ms/step - loss: 1.7701 - mae: 2.2217\n",
            "Epoch 69/150\n",
            "59/59 [==============================] - 4s 68ms/step - loss: 1.8191 - mae: 2.2715\n",
            "Epoch 70/150\n",
            "59/59 [==============================] - 4s 67ms/step - loss: 1.7609 - mae: 2.2122\n",
            "Epoch 71/150\n",
            "59/59 [==============================] - 4s 68ms/step - loss: 1.7309 - mae: 2.1785\n",
            "Epoch 72/150\n",
            "59/59 [==============================] - 4s 68ms/step - loss: 1.8615 - mae: 2.3146\n",
            "Epoch 73/150\n",
            "59/59 [==============================] - 4s 68ms/step - loss: 1.8320 - mae: 2.2833\n",
            "Epoch 74/150\n",
            "59/59 [==============================] - 4s 68ms/step - loss: 1.7928 - mae: 2.2430\n",
            "Epoch 75/150\n",
            "59/59 [==============================] - 4s 68ms/step - loss: 1.8491 - mae: 2.3026\n",
            "Epoch 76/150\n",
            "59/59 [==============================] - 4s 68ms/step - loss: 1.7958 - mae: 2.2463\n",
            "Epoch 77/150\n",
            "59/59 [==============================] - 4s 68ms/step - loss: 1.7494 - mae: 2.1998\n",
            "Epoch 78/150\n",
            "59/59 [==============================] - 4s 68ms/step - loss: 1.7991 - mae: 2.2514\n",
            "Epoch 79/150\n",
            "59/59 [==============================] - 4s 68ms/step - loss: 1.8172 - mae: 2.2698\n",
            "Epoch 80/150\n",
            "59/59 [==============================] - 4s 69ms/step - loss: 1.7622 - mae: 2.2145\n",
            "Epoch 81/150\n",
            "59/59 [==============================] - 4s 69ms/step - loss: 1.8029 - mae: 2.2556\n",
            "Epoch 82/150\n",
            "59/59 [==============================] - 4s 68ms/step - loss: 1.9289 - mae: 2.3858\n",
            "Epoch 83/150\n",
            "59/59 [==============================] - 4s 69ms/step - loss: 1.7731 - mae: 2.2237\n",
            "Epoch 84/150\n",
            "59/59 [==============================] - 4s 69ms/step - loss: 1.7335 - mae: 2.1835\n",
            "Epoch 85/150\n",
            "59/59 [==============================] - 4s 68ms/step - loss: 1.7157 - mae: 2.1656\n",
            "Epoch 86/150\n",
            "59/59 [==============================] - 4s 69ms/step - loss: 1.6778 - mae: 2.1271\n",
            "Epoch 87/150\n",
            "59/59 [==============================] - 4s 68ms/step - loss: 1.6837 - mae: 2.1334\n",
            "Epoch 88/150\n",
            "59/59 [==============================] - 4s 69ms/step - loss: 1.8772 - mae: 2.3307\n",
            "Epoch 89/150\n",
            "59/59 [==============================] - 4s 69ms/step - loss: 1.7903 - mae: 2.2433\n",
            "Epoch 90/150\n",
            "59/59 [==============================] - 4s 68ms/step - loss: 1.7593 - mae: 2.2103\n",
            "Epoch 91/150\n",
            "59/59 [==============================] - 4s 69ms/step - loss: 1.8507 - mae: 2.3034\n",
            "Epoch 92/150\n",
            "59/59 [==============================] - 4s 69ms/step - loss: 1.7651 - mae: 2.2166\n",
            "Epoch 93/150\n",
            "59/59 [==============================] - 4s 68ms/step - loss: 1.8086 - mae: 2.2609\n",
            "Epoch 94/150\n",
            "59/59 [==============================] - 4s 69ms/step - loss: 1.8199 - mae: 2.2726\n",
            "Epoch 95/150\n",
            "59/59 [==============================] - 4s 68ms/step - loss: 1.7581 - mae: 2.2095\n",
            "Epoch 96/150\n",
            "59/59 [==============================] - 4s 69ms/step - loss: 1.8298 - mae: 2.2821\n",
            "Epoch 97/150\n",
            "59/59 [==============================] - 4s 68ms/step - loss: 1.7377 - mae: 2.1887\n",
            "Epoch 98/150\n",
            "59/59 [==============================] - 4s 68ms/step - loss: 1.6996 - mae: 2.1478\n",
            "Epoch 99/150\n",
            "59/59 [==============================] - 4s 68ms/step - loss: 1.7196 - mae: 2.1692\n",
            "Epoch 100/150\n",
            "59/59 [==============================] - 4s 69ms/step - loss: 1.7635 - mae: 2.2139\n",
            "Epoch 101/150\n",
            "59/59 [==============================] - 4s 69ms/step - loss: 1.7093 - mae: 2.1580\n",
            "Epoch 102/150\n",
            "59/59 [==============================] - 4s 69ms/step - loss: 1.9384 - mae: 2.3926\n",
            "Epoch 103/150\n",
            "59/59 [==============================] - 4s 69ms/step - loss: 1.6935 - mae: 2.1426\n",
            "Epoch 104/150\n",
            "59/59 [==============================] - 4s 68ms/step - loss: 1.7114 - mae: 2.1595\n",
            "Epoch 105/150\n",
            "59/59 [==============================] - 4s 69ms/step - loss: 1.7606 - mae: 2.2124\n",
            "Epoch 106/150\n",
            "59/59 [==============================] - 4s 68ms/step - loss: 1.7903 - mae: 2.2444\n",
            "Epoch 107/150\n",
            "59/59 [==============================] - 4s 69ms/step - loss: 1.7535 - mae: 2.2015\n",
            "Epoch 108/150\n",
            "59/59 [==============================] - 4s 68ms/step - loss: 1.7697 - mae: 2.2234\n",
            "Epoch 109/150\n",
            "59/59 [==============================] - 4s 68ms/step - loss: 1.6725 - mae: 2.1201\n",
            "Epoch 110/150\n",
            "59/59 [==============================] - 4s 69ms/step - loss: 1.7150 - mae: 2.1652\n",
            "Epoch 111/150\n",
            "59/59 [==============================] - 4s 69ms/step - loss: 1.6790 - mae: 2.1270\n",
            "Epoch 112/150\n",
            "59/59 [==============================] - 4s 69ms/step - loss: 1.7499 - mae: 2.2031\n",
            "Epoch 113/150\n",
            "59/59 [==============================] - 4s 69ms/step - loss: 1.7303 - mae: 2.1808\n",
            "Epoch 114/150\n",
            "59/59 [==============================] - 4s 70ms/step - loss: 1.8351 - mae: 2.2877\n",
            "Epoch 115/150\n",
            "59/59 [==============================] - 4s 68ms/step - loss: 1.7828 - mae: 2.2346\n",
            "Epoch 116/150\n",
            "59/59 [==============================] - 4s 69ms/step - loss: 1.9851 - mae: 2.4406\n",
            "Epoch 117/150\n",
            "59/59 [==============================] - 4s 69ms/step - loss: 1.8731 - mae: 2.3264\n",
            "Epoch 118/150\n",
            "59/59 [==============================] - 4s 69ms/step - loss: 1.7151 - mae: 2.1653\n",
            "Epoch 119/150\n",
            "59/59 [==============================] - 4s 68ms/step - loss: 1.6965 - mae: 2.1450\n",
            "Epoch 120/150\n",
            "59/59 [==============================] - 4s 69ms/step - loss: 1.7829 - mae: 2.2347\n",
            "Epoch 121/150\n",
            "59/59 [==============================] - 4s 69ms/step - loss: 1.8111 - mae: 2.2640\n",
            "Epoch 122/150\n",
            "59/59 [==============================] - 4s 69ms/step - loss: 1.8759 - mae: 2.3306\n",
            "Epoch 123/150\n",
            "59/59 [==============================] - 4s 69ms/step - loss: 1.7396 - mae: 2.1900\n",
            "Epoch 124/150\n",
            "59/59 [==============================] - 4s 69ms/step - loss: 1.6841 - mae: 2.1325\n",
            "Epoch 125/150\n",
            "59/59 [==============================] - 4s 69ms/step - loss: 1.9894 - mae: 2.4467\n",
            "Epoch 126/150\n",
            "59/59 [==============================] - 4s 69ms/step - loss: 1.7504 - mae: 2.1999\n",
            "Epoch 127/150\n",
            "59/59 [==============================] - 4s 69ms/step - loss: 1.7335 - mae: 2.1843\n",
            "Epoch 128/150\n",
            "59/59 [==============================] - 4s 69ms/step - loss: 1.8144 - mae: 2.2658\n",
            "Epoch 129/150\n",
            "59/59 [==============================] - 4s 69ms/step - loss: 1.7194 - mae: 2.1696\n",
            "Epoch 130/150\n",
            "59/59 [==============================] - 4s 69ms/step - loss: 1.7608 - mae: 2.2092\n",
            "Epoch 131/150\n",
            "59/59 [==============================] - 4s 70ms/step - loss: 1.8029 - mae: 2.2557\n",
            "Epoch 132/150\n",
            "59/59 [==============================] - 4s 69ms/step - loss: 1.6760 - mae: 2.1226\n",
            "Epoch 133/150\n",
            "59/59 [==============================] - 4s 69ms/step - loss: 1.6646 - mae: 2.1138\n",
            "Epoch 134/150\n",
            "59/59 [==============================] - 4s 69ms/step - loss: 1.7598 - mae: 2.2116\n",
            "Epoch 135/150\n",
            "59/59 [==============================] - 4s 69ms/step - loss: 1.8707 - mae: 2.3232\n",
            "Epoch 136/150\n",
            "59/59 [==============================] - 4s 68ms/step - loss: 1.6937 - mae: 2.1434\n",
            "Epoch 137/150\n",
            "59/59 [==============================] - 4s 68ms/step - loss: 1.7775 - mae: 2.2274\n",
            "Epoch 138/150\n",
            "59/59 [==============================] - 4s 69ms/step - loss: 1.7103 - mae: 2.1588\n",
            "Epoch 139/150\n",
            "59/59 [==============================] - 4s 68ms/step - loss: 1.6924 - mae: 2.1412\n",
            "Epoch 140/150\n",
            "59/59 [==============================] - 4s 68ms/step - loss: 1.7120 - mae: 2.1631\n",
            "Epoch 141/150\n",
            "59/59 [==============================] - 4s 68ms/step - loss: 1.7660 - mae: 2.2155\n",
            "Epoch 142/150\n",
            "59/59 [==============================] - 4s 68ms/step - loss: 1.8241 - mae: 2.2754\n",
            "Epoch 143/150\n",
            "59/59 [==============================] - 4s 68ms/step - loss: 1.7528 - mae: 2.2040\n",
            "Epoch 144/150\n",
            "59/59 [==============================] - 4s 69ms/step - loss: 1.6205 - mae: 2.0682\n",
            "Epoch 145/150\n",
            "59/59 [==============================] - 4s 69ms/step - loss: 1.7677 - mae: 2.2193\n",
            "Epoch 146/150\n",
            "59/59 [==============================] - 4s 69ms/step - loss: 1.6889 - mae: 2.1401\n",
            "Epoch 147/150\n",
            "59/59 [==============================] - 4s 68ms/step - loss: 1.8108 - mae: 2.2628\n",
            "Epoch 148/150\n",
            "59/59 [==============================] - 4s 68ms/step - loss: 1.7551 - mae: 2.2098\n",
            "Epoch 149/150\n",
            "59/59 [==============================] - 4s 69ms/step - loss: 1.7271 - mae: 2.1749\n",
            "Epoch 150/150\n",
            "59/59 [==============================] - 4s 68ms/step - loss: 1.6741 - mae: 2.1207\n"
          ],
          "name": "stdout"
        }
      ]
    },
    {
      "cell_type": "code",
      "metadata": {
        "id": "he58S-nZGAMJ"
      },
      "source": [
        "rnn_forecast = model_forecast(model,series[...,np.newaxis],window_size)\n",
        "rnn_forecast = rnn_forecast[split_time-window_size:-1,-1,0]"
      ],
      "execution_count": null,
      "outputs": []
    },
    {
      "cell_type": "code",
      "metadata": {
        "id": "EMgKp97FKvpn",
        "outputId": "b5f0769e-4914-4332-881f-618b1daf47d6",
        "colab": {
          "base_uri": "https://localhost:8080/",
          "height": 278
        }
      },
      "source": [
        "\n",
        "plot_series(time_valid,x_valid)\n",
        "plot_series(time_valid,rnn_forecast)"
      ],
      "execution_count": null,
      "outputs": [
        {
          "output_type": "display_data",
          "data": {
            "image/png": "[encoded data removed]",
            "text/plain": [
              "<Figure size 432x288 with 1 Axes>"
            ]
          },
          "metadata": {
            "tags": [],
            "needs_background": "light"
          }
        }
      ]
    },
    {
      "cell_type": "code",
      "metadata": {
        "id": "ovLioXhOLDrJ",
        "outputId": "53f6af26-3348-4a3c-9031-47208cb12c63",
        "colab": {
          "base_uri": "https://localhost:8080/"
        }
      },
      "source": [
        "tf.keras.metrics.mean_absolute_error(x_valid,rnn_forecast)"
      ],
      "execution_count": null,
      "outputs": [
        {
          "output_type": "execute_result",
          "data": {
            "text/plain": [
              "<tf.Tensor: shape=(), dtype=float32, numpy=1.9865139>"
            ]
          },
          "metadata": {
            "tags": []
          },
          "execution_count": 178
        }
      ]
    },
    {
      "cell_type": "code",
      "metadata": {
        "id": "E53ogeaaOtgL"
      },
      "source": [
        ""
      ],
      "execution_count": null,
      "outputs": []
    }
  ]
}