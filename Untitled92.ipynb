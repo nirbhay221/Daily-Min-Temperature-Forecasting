{
  "nbformat": 4,
  "nbformat_minor": 0,
  "metadata": {
    "colab": {
      "name": "Untitled92.ipynb",
      "provenance": [],
      "collapsed_sections": []
    },
    "kernelspec": {
      "name": "python3",
      "display_name": "Python 3"
    }
  },
  "cells": [
    {
      "cell_type": "code",
      "metadata": {
        "id": "nWAKfqd_NBaE"
      },
      "source": [
        "import numpy as np \n",
        "import matplotlib.pyplot as plt\n",
        "import tensorflow as tf\n",
        "import csv\n",
        "import pandas as pd"
      ],
      "execution_count": null,
      "outputs": []
    },
    {
      "cell_type": "code",
      "metadata": {
        "colab": {
          "base_uri": "https://localhost:8080/",
          "height": 381
        },
        "id": "TsrIvQZxSwct",
        "outputId": "76bc4f7f-4df3-4a29-c3fb-9cfdc44f6e6b"
      },
      "source": [
        "!wget --no-check-certificate \\\n",
        "    https://raw.githubusercontent.com/jbrownlee/Datasets/master/daily-min-temperatures.csv \\\n",
        "    -O /tmp/daily-min-temperatures.csv\n",
        "df = pd.read_csv('/content/monthly-sunspots.csv')\n",
        "df.head()"
      ],
      "execution_count": null,
      "outputs": [
        {
          "output_type": "stream",
          "text": [
            "--2020-11-23 18:49:26--  https://raw.githubusercontent.com/jbrownlee/Datasets/master/daily-min-temperatures.csv\n",
            "Resolving raw.githubusercontent.com (raw.githubusercontent.com)... 151.101.0.133, 151.101.64.133, 151.101.128.133, ...\n",
            "Connecting to raw.githubusercontent.com (raw.githubusercontent.com)|151.101.0.133|:443... connected.\n",
            "HTTP request sent, awaiting response... 200 OK\n",
            "Length: 67921 (66K) [text/plain]\n",
            "Saving to: ‘/tmp/daily-min-temperatures.csv’\n",
            "\n",
            "/tmp/daily-min-temp 100%[===================>]  66.33K  --.-KB/s    in 0.004s  \n",
            "\n",
            "2020-11-23 18:49:26 (14.4 MB/s) - ‘/tmp/daily-min-temperatures.csv’ saved [67921/67921]\n",
            "\n"
          ],
          "name": "stdout"
        },
        {
          "output_type": "execute_result",
          "data": {
            "text/html": [
              "<div>\n",
              "<style scoped>\n",
              "    .dataframe tbody tr th:only-of-type {\n",
              "        vertical-align: middle;\n",
              "    }\n",
              "\n",
              "    .dataframe tbody tr th {\n",
              "        vertical-align: top;\n",
              "    }\n",
              "\n",
              "    .dataframe thead th {\n",
              "        text-align: right;\n",
              "    }\n",
              "</style>\n",
              "<table border=\"1\" class=\"dataframe\">\n",
              "  <thead>\n",
              "    <tr style=\"text-align: right;\">\n",
              "      <th></th>\n",
              "      <th>Month</th>\n",
              "      <th>Sunspots</th>\n",
              "    </tr>\n",
              "  </thead>\n",
              "  <tbody>\n",
              "    <tr>\n",
              "      <th>0</th>\n",
              "      <td>1749-01</td>\n",
              "      <td>58.0</td>\n",
              "    </tr>\n",
              "    <tr>\n",
              "      <th>1</th>\n",
              "      <td>1749-02</td>\n",
              "      <td>62.6</td>\n",
              "    </tr>\n",
              "    <tr>\n",
              "      <th>2</th>\n",
              "      <td>1749-03</td>\n",
              "      <td>70.0</td>\n",
              "    </tr>\n",
              "    <tr>\n",
              "      <th>3</th>\n",
              "      <td>1749-04</td>\n",
              "      <td>55.7</td>\n",
              "    </tr>\n",
              "    <tr>\n",
              "      <th>4</th>\n",
              "      <td>1749-05</td>\n",
              "      <td>85.0</td>\n",
              "    </tr>\n",
              "  </tbody>\n",
              "</table>\n",
              "</div>"
            ],
            "text/plain": [
              "     Month  Sunspots\n",
              "0  1749-01      58.0\n",
              "1  1749-02      62.6\n",
              "2  1749-03      70.0\n",
              "3  1749-04      55.7\n",
              "4  1749-05      85.0"
            ]
          },
          "metadata": {
            "tags": []
          },
          "execution_count": 40
        }
      ]
    },
    {
      "cell_type": "code",
      "metadata": {
        "id": "R9vx2RLcS3m6"
      },
      "source": [
        "sunspot = []\n",
        "time_steps =[]\n",
        "x=0\n",
        "with open('/content/gold_price_data.csv') as csv_file:\n",
        "  reader = csv.reader(csv_file,delimiter=',')\n",
        "  next(reader)\n",
        "  for row in reader:\n",
        "    sunspot.append(float(row[1]))\n",
        "    time_steps.append(int(x))\n",
        "    x +=1"
      ],
      "execution_count": null,
      "outputs": []
    },
    {
      "cell_type": "code",
      "metadata": {
        "id": "k9h3BE3_TMwD"
      },
      "source": [
        "time = np.array(time_steps)\n",
        "series = np.array(sunspot)"
      ],
      "execution_count": null,
      "outputs": []
    },
    {
      "cell_type": "code",
      "metadata": {
        "id": "d3w57fOjUQmi"
      },
      "source": [
        "def plot_series(time,series,format='-',start=0,end=None):\n",
        "  plt.plot(time,series,format)\n",
        "  plt.xlabel('Time')\n",
        "  plt.ylabel('Values')\n",
        "  plt.grid(False)"
      ],
      "execution_count": null,
      "outputs": []
    },
    {
      "cell_type": "code",
      "metadata": {
        "colab": {
          "base_uri": "https://localhost:8080/",
          "height": 278
        },
        "id": "wt6-79oQUejF",
        "outputId": "5b024d27-063a-4c1d-d70e-515e0796c417"
      },
      "source": [
        "plot_series(time,series)"
      ],
      "execution_count": null,
      "outputs": [
        {
          "output_type": "display_data",
          "data": {
            "image/png": "[encoded data removed]",
            "text/plain": [
              "<Figure size 432x288 with 1 Axes>"
            ]
          },
          "metadata": {
            "tags": [],
            "needs_background": "light"
          }
        }
      ]
    },
    {
      "cell_type": "code",
      "metadata": {
        "colab": {
          "base_uri": "https://localhost:8080/"
        },
        "id": "nOY443iHUtKv",
        "outputId": "0c9ddb73-5a40-49d1-a716-59e3cdced5c0"
      },
      "source": [
        "df.shape"
      ],
      "execution_count": null,
      "outputs": [
        {
          "output_type": "execute_result",
          "data": {
            "text/plain": [
              "(2820, 2)"
            ]
          },
          "metadata": {
            "tags": []
          },
          "execution_count": 65
        }
      ]
    },
    {
      "cell_type": "code",
      "metadata": {
        "id": "93po0HLSUw0U"
      },
      "source": [
        "split_time= 1000\n",
        "time_train = time[:split_time]\n",
        "time_valid = time[split_time:]\n",
        "x_train = series[:split_time]\n",
        "x_valid= series[split_time:]\n"
      ],
      "execution_count": null,
      "outputs": []
    },
    {
      "cell_type": "code",
      "metadata": {
        "id": "JKACDHh1U9_d"
      },
      "source": [
        "window_size=20\n",
        "batch_size=32\n",
        "shuffle_buffer_size=1000"
      ],
      "execution_count": null,
      "outputs": []
    },
    {
      "cell_type": "code",
      "metadata": {
        "id": "j4U6nKIGVBgt"
      },
      "source": [
        "def windowed_dataset(series,window_size,batch_size,shuffle_buffer):\n",
        "  series= tf.expand_dims(series,axis=-1)\n",
        "  dataset= tf.data.Dataset.from_tensor_slices(series)\n",
        "  dataset = dataset.window(window_size+1,shift=1,drop_remainder=True)\n",
        "  dataset= dataset.flat_map(lambda window:window.batch(window_size+1))\n",
        "  dataset= dataset.shuffle(shuffle_buffer).map(lambda window: (window[:-1],window[-1]))\n",
        "  dataset= dataset.batch(batch_size).prefetch(-1)\n",
        "  return dataset"
      ],
      "execution_count": null,
      "outputs": []
    },
    {
      "cell_type": "code",
      "metadata": {
        "id": "bLc1FAyuVriW"
      },
      "source": [
        "def model_forecast(model,series,window_size):\n",
        "  dataset= tf.data.Dataset.from_tensor_slices(series)\n",
        "  dataset = dataset.window(window_size,shift=1,drop_remainder=True)\n",
        "  dataset= dataset.flat_map(lambda window:window.batch(window_size))\n",
        "  dataset= dataset.batch(32).prefetch(-1)\n",
        "  forecast = model.predict(dataset)\n",
        "  return forecast"
      ],
      "execution_count": null,
      "outputs": []
    },
    {
      "cell_type": "code",
      "metadata": {
        "id": "F9EE_QjRV4xs"
      },
      "source": [
        "dataset = windowed_dataset(x_train,window_size,batch_size,shuffle_buffer=shuffle_buffer_size)"
      ],
      "execution_count": null,
      "outputs": []
    },
    {
      "cell_type": "code",
      "metadata": {
        "id": "Ibp_GJAvWPVO"
      },
      "source": [
        "model= tf.keras.models.Sequential([\n",
        "                                   tf.keras.layers.Conv1D(filters=100,kernel_size=5,strides =1,padding='causal',activation='relu',input_shape=[None,1]),\n",
        "                                   tf.keras.layers.Bidirectional(tf.keras.layers.LSTM(20,return_sequences=True)),\n",
        "                                   tf.keras.layers.Bidirectional(tf.keras.layers.LSTM(20,return_sequences=True)),\n",
        "                                   tf.keras.layers.Dense(30,activation='relu'),\n",
        "                                   tf.keras.layers.Dense(10,activation='relu'),\n",
        "                                   tf.keras.layers.Dense(1),\n",
        "                                   tf.keras.layers.Lambda(lambda x: x*400)\n",
        "])"
      ],
      "execution_count": null,
      "outputs": []
    },
    {
      "cell_type": "code",
      "metadata": {
        "id": "M25NrhuhXKet"
      },
      "source": [
        "lr_scheduler= tf.keras.callbacks.LearningRateScheduler(lambda epochs: 1e-8*10**(epochs/20))\n",
        "model.compile(loss= tf.keras.losses.Huber(),optimizer=tf.keras.optimizers.SGD(lr=1e-8,momentum=0.9),metrics=['mae'])\n"
      ],
      "execution_count": null,
      "outputs": []
    },
    {
      "cell_type": "code",
      "metadata": {
        "colab": {
          "base_uri": "https://localhost:8080/"
        },
        "id": "wG6rLn2XXjJB",
        "outputId": "a0d359f6-d2bf-4161-ef9a-0d8fe47fb1f1"
      },
      "source": [
        "history=model.fit(dataset,epochs=100,callbacks=[lr_scheduler])"
      ],
      "execution_count": null,
      "outputs": [
        {
          "output_type": "stream",
          "text": [
            "Epoch 1/100\n",
            "31/31 [==============================] - 1s 22ms/step - loss: 509.9169 - mae: 510.4169\n",
            "Epoch 2/100\n",
            "31/31 [==============================] - 1s 21ms/step - loss: 505.3194 - mae: 505.8194\n",
            "Epoch 3/100\n",
            "31/31 [==============================] - 1s 22ms/step - loss: 498.0312 - mae: 498.5312\n",
            "Epoch 4/100\n",
            "31/31 [==============================] - 1s 22ms/step - loss: 494.7668 - mae: 495.2668\n",
            "Epoch 5/100\n",
            "31/31 [==============================] - 1s 23ms/step - loss: 489.5567 - mae: 490.0567\n",
            "Epoch 6/100\n",
            "31/31 [==============================] - 1s 22ms/step - loss: 475.7168 - mae: 476.2168\n",
            "Epoch 7/100\n",
            "31/31 [==============================] - 1s 22ms/step - loss: 470.7512 - mae: 471.2512\n",
            "Epoch 8/100\n",
            "31/31 [==============================] - 1s 21ms/step - loss: 466.4062 - mae: 466.9062\n",
            "Epoch 9/100\n",
            "31/31 [==============================] - 1s 23ms/step - loss: 459.9951 - mae: 460.4951\n",
            "Epoch 10/100\n",
            "31/31 [==============================] - 1s 22ms/step - loss: 455.2002 - mae: 455.7002\n",
            "Epoch 11/100\n",
            "31/31 [==============================] - 1s 22ms/step - loss: 446.5050 - mae: 447.0050\n",
            "Epoch 12/100\n",
            "31/31 [==============================] - 1s 22ms/step - loss: 439.6279 - mae: 440.1279\n",
            "Epoch 13/100\n",
            "31/31 [==============================] - 1s 22ms/step - loss: 435.6941 - mae: 436.1941\n",
            "Epoch 14/100\n",
            "31/31 [==============================] - 1s 22ms/step - loss: 426.8609 - mae: 427.3609\n",
            "Epoch 15/100\n",
            "31/31 [==============================] - 1s 22ms/step - loss: 408.4857 - mae: 408.9857\n",
            "Epoch 16/100\n",
            "31/31 [==============================] - 1s 22ms/step - loss: 400.1380 - mae: 400.6380\n",
            "Epoch 17/100\n",
            "31/31 [==============================] - 1s 22ms/step - loss: 390.9628 - mae: 391.4628\n",
            "Epoch 18/100\n",
            "31/31 [==============================] - 1s 22ms/step - loss: 380.0869 - mae: 380.5869\n",
            "Epoch 19/100\n",
            "31/31 [==============================] - 1s 22ms/step - loss: 366.1468 - mae: 366.6468\n",
            "Epoch 20/100\n",
            "31/31 [==============================] - 1s 22ms/step - loss: 347.7980 - mae: 348.2980\n",
            "Epoch 21/100\n",
            "31/31 [==============================] - 1s 22ms/step - loss: 330.0254 - mae: 330.5254\n",
            "Epoch 22/100\n",
            "31/31 [==============================] - 1s 21ms/step - loss: 310.4261 - mae: 310.9261\n",
            "Epoch 23/100\n",
            "31/31 [==============================] - 1s 22ms/step - loss: 287.7586 - mae: 288.2586\n",
            "Epoch 24/100\n",
            "31/31 [==============================] - 1s 22ms/step - loss: 261.2299 - mae: 261.7298\n",
            "Epoch 25/100\n",
            "31/31 [==============================] - 1s 22ms/step - loss: 231.7136 - mae: 232.2134\n",
            "Epoch 26/100\n",
            "31/31 [==============================] - 1s 22ms/step - loss: 200.3881 - mae: 200.8875\n",
            "Epoch 27/100\n",
            "31/31 [==============================] - 1s 22ms/step - loss: 172.2905 - mae: 172.7898\n",
            "Epoch 28/100\n",
            "31/31 [==============================] - 1s 22ms/step - loss: 148.5078 - mae: 149.0070\n",
            "Epoch 29/100\n",
            "31/31 [==============================] - 1s 22ms/step - loss: 131.3020 - mae: 131.8013\n",
            "Epoch 30/100\n",
            "31/31 [==============================] - 1s 22ms/step - loss: 120.6139 - mae: 121.1126\n",
            "Epoch 31/100\n",
            "31/31 [==============================] - 1s 23ms/step - loss: 116.3234 - mae: 116.8222\n",
            "Epoch 32/100\n",
            "31/31 [==============================] - 1s 22ms/step - loss: 114.5662 - mae: 115.0654\n",
            "Epoch 33/100\n",
            "31/31 [==============================] - 1s 22ms/step - loss: 113.8309 - mae: 114.3301\n",
            "Epoch 34/100\n",
            "31/31 [==============================] - 1s 22ms/step - loss: 113.9896 - mae: 114.4886\n",
            "Epoch 35/100\n",
            "31/31 [==============================] - 1s 22ms/step - loss: 111.8958 - mae: 112.3949\n",
            "Epoch 36/100\n",
            "31/31 [==============================] - 1s 22ms/step - loss: 111.2379 - mae: 111.7371\n",
            "Epoch 37/100\n",
            "31/31 [==============================] - 1s 22ms/step - loss: 110.4450 - mae: 110.9442\n",
            "Epoch 38/100\n",
            "31/31 [==============================] - 1s 21ms/step - loss: 111.2294 - mae: 111.7285\n",
            "Epoch 39/100\n",
            "31/31 [==============================] - 1s 22ms/step - loss: 114.5703 - mae: 115.0696\n",
            "Epoch 40/100\n",
            "31/31 [==============================] - 1s 22ms/step - loss: 113.6245 - mae: 114.1235\n",
            "Epoch 41/100\n",
            "31/31 [==============================] - 1s 22ms/step - loss: 111.4857 - mae: 111.9848\n",
            "Epoch 42/100\n",
            "31/31 [==============================] - 1s 22ms/step - loss: 111.6035 - mae: 112.1023\n",
            "Epoch 43/100\n",
            "31/31 [==============================] - 1s 22ms/step - loss: 110.3937 - mae: 110.8926\n",
            "Epoch 44/100\n",
            "31/31 [==============================] - 1s 22ms/step - loss: 107.4447 - mae: 107.9437\n",
            "Epoch 45/100\n",
            "31/31 [==============================] - 1s 22ms/step - loss: 107.3985 - mae: 107.8973\n",
            "Epoch 46/100\n",
            "31/31 [==============================] - 1s 22ms/step - loss: 109.1532 - mae: 109.6523\n",
            "Epoch 47/100\n",
            "31/31 [==============================] - 1s 22ms/step - loss: 108.1068 - mae: 108.6057\n",
            "Epoch 48/100\n",
            "31/31 [==============================] - 1s 22ms/step - loss: 110.7400 - mae: 111.2389\n",
            "Epoch 49/100\n",
            "31/31 [==============================] - 1s 22ms/step - loss: 110.4711 - mae: 110.9699\n",
            "Epoch 50/100\n",
            "31/31 [==============================] - 1s 22ms/step - loss: 109.2931 - mae: 109.7920\n",
            "Epoch 51/100\n",
            "31/31 [==============================] - 1s 22ms/step - loss: 110.1879 - mae: 110.6869\n",
            "Epoch 52/100\n",
            "31/31 [==============================] - 1s 22ms/step - loss: 108.7746 - mae: 109.2737\n",
            "Epoch 53/100\n",
            "31/31 [==============================] - 1s 22ms/step - loss: 108.0301 - mae: 108.5288\n",
            "Epoch 54/100\n",
            "31/31 [==============================] - 1s 22ms/step - loss: 108.2567 - mae: 108.7555\n",
            "Epoch 55/100\n",
            "31/31 [==============================] - 1s 22ms/step - loss: 110.1291 - mae: 110.6282\n",
            "Epoch 56/100\n",
            "31/31 [==============================] - 1s 21ms/step - loss: 112.9867 - mae: 113.4857\n",
            "Epoch 57/100\n",
            "31/31 [==============================] - 1s 23ms/step - loss: 110.7181 - mae: 111.2170\n",
            "Epoch 58/100\n",
            "31/31 [==============================] - 1s 22ms/step - loss: 112.0258 - mae: 112.5249\n",
            "Epoch 59/100\n",
            "31/31 [==============================] - 1s 23ms/step - loss: 110.6460 - mae: 111.1448\n",
            "Epoch 60/100\n",
            "31/31 [==============================] - 1s 22ms/step - loss: 112.0937 - mae: 112.5929\n",
            "Epoch 61/100\n",
            "31/31 [==============================] - 1s 22ms/step - loss: 112.9347 - mae: 113.4336\n",
            "Epoch 62/100\n",
            "31/31 [==============================] - 1s 22ms/step - loss: 111.4780 - mae: 111.9770\n",
            "Epoch 63/100\n",
            "31/31 [==============================] - 1s 22ms/step - loss: 111.6060 - mae: 112.1051\n",
            "Epoch 64/100\n",
            "31/31 [==============================] - 1s 22ms/step - loss: 116.1091 - mae: 116.6079\n",
            "Epoch 65/100\n",
            "31/31 [==============================] - 1s 22ms/step - loss: 114.2514 - mae: 114.7504\n",
            "Epoch 66/100\n",
            "31/31 [==============================] - 1s 23ms/step - loss: 116.2704 - mae: 116.7693\n",
            "Epoch 67/100\n",
            "31/31 [==============================] - 1s 22ms/step - loss: 115.9812 - mae: 116.4806\n",
            "Epoch 68/100\n",
            "31/31 [==============================] - 1s 22ms/step - loss: 114.6370 - mae: 115.1360\n",
            "Epoch 69/100\n",
            "31/31 [==============================] - 1s 22ms/step - loss: 113.5486 - mae: 114.0472\n",
            "Epoch 70/100\n",
            "31/31 [==============================] - 1s 23ms/step - loss: 114.4023 - mae: 114.9013\n",
            "Epoch 71/100\n",
            "31/31 [==============================] - 1s 22ms/step - loss: 112.8998 - mae: 113.3986\n",
            "Epoch 72/100\n",
            "31/31 [==============================] - 1s 22ms/step - loss: 116.7415 - mae: 117.2404\n",
            "Epoch 73/100\n",
            "31/31 [==============================] - 1s 22ms/step - loss: 113.2926 - mae: 113.7916\n",
            "Epoch 74/100\n",
            "31/31 [==============================] - 1s 22ms/step - loss: 116.2525 - mae: 116.7518\n",
            "Epoch 75/100\n",
            "31/31 [==============================] - 1s 22ms/step - loss: 115.2329 - mae: 115.7322\n",
            "Epoch 76/100\n",
            "31/31 [==============================] - 1s 22ms/step - loss: 113.0075 - mae: 113.5066\n",
            "Epoch 77/100\n",
            "31/31 [==============================] - 1s 22ms/step - loss: 113.8496 - mae: 114.3482\n",
            "Epoch 78/100\n",
            "31/31 [==============================] - 1s 22ms/step - loss: 114.8159 - mae: 115.3150\n",
            "Epoch 79/100\n",
            "31/31 [==============================] - 1s 22ms/step - loss: 113.6529 - mae: 114.1520\n",
            "Epoch 80/100\n",
            "31/31 [==============================] - 1s 23ms/step - loss: 114.0894 - mae: 114.5884\n",
            "Epoch 81/100\n",
            "31/31 [==============================] - 1s 23ms/step - loss: 114.3272 - mae: 114.8263\n",
            "Epoch 82/100\n",
            "31/31 [==============================] - 1s 22ms/step - loss: 118.9790 - mae: 119.4780\n",
            "Epoch 83/100\n",
            "31/31 [==============================] - 1s 23ms/step - loss: 115.9271 - mae: 116.4259\n",
            "Epoch 84/100\n",
            "31/31 [==============================] - 1s 23ms/step - loss: 114.1401 - mae: 114.6394\n",
            "Epoch 85/100\n",
            "31/31 [==============================] - 1s 22ms/step - loss: 113.2346 - mae: 113.7334\n",
            "Epoch 86/100\n",
            "31/31 [==============================] - 1s 22ms/step - loss: 114.5312 - mae: 115.0304\n",
            "Epoch 87/100\n",
            "31/31 [==============================] - 1s 23ms/step - loss: 115.1247 - mae: 115.6224\n",
            "Epoch 88/100\n",
            "31/31 [==============================] - 1s 22ms/step - loss: 113.9046 - mae: 114.4030\n",
            "Epoch 89/100\n",
            "31/31 [==============================] - 1s 22ms/step - loss: 118.1008 - mae: 118.5995\n",
            "Epoch 90/100\n",
            "31/31 [==============================] - 1s 22ms/step - loss: 124.0042 - mae: 124.5035\n",
            "Epoch 91/100\n",
            "31/31 [==============================] - 1s 22ms/step - loss: 115.0923 - mae: 115.5911\n",
            "Epoch 92/100\n",
            "31/31 [==============================] - 1s 21ms/step - loss: 115.9322 - mae: 116.4314\n",
            "Epoch 93/100\n",
            "31/31 [==============================] - 1s 22ms/step - loss: 116.9408 - mae: 117.4400\n",
            "Epoch 94/100\n",
            "31/31 [==============================] - 1s 22ms/step - loss: 119.3088 - mae: 119.8074\n",
            "Epoch 95/100\n",
            "31/31 [==============================] - 1s 23ms/step - loss: 117.7161 - mae: 118.2160\n",
            "Epoch 96/100\n",
            "31/31 [==============================] - 1s 23ms/step - loss: 118.6351 - mae: 119.1345\n",
            "Epoch 97/100\n",
            "31/31 [==============================] - 1s 22ms/step - loss: 115.2527 - mae: 115.7518\n",
            "Epoch 98/100\n",
            "31/31 [==============================] - 1s 22ms/step - loss: 117.6734 - mae: 118.1733\n",
            "Epoch 99/100\n",
            "31/31 [==============================] - 1s 22ms/step - loss: 116.6518 - mae: 117.1508\n",
            "Epoch 100/100\n",
            "31/31 [==============================] - 1s 22ms/step - loss: 120.5586 - mae: 121.0570\n"
          ],
          "name": "stdout"
        }
      ]
    },
    {
      "cell_type": "code",
      "metadata": {
        "colab": {
          "base_uri": "https://localhost:8080/",
          "height": 285
        },
        "id": "4MCiQxAqXrgt",
        "outputId": "99f4ade8-7156-496c-d0a3-8c018e995d3a"
      },
      "source": [
        "plt.semilogx(history.history['lr'],history.history['loss'])"
      ],
      "execution_count": null,
      "outputs": [
        {
          "output_type": "execute_result",
          "data": {
            "text/plain": [
              "[<matplotlib.lines.Line2D at 0x7f328a854b70>]"
            ]
          },
          "metadata": {
            "tags": []
          },
          "execution_count": 74
        },
        {
          "output_type": "display_data",
          "data": {
            "image/png": "[encoded data removed]",
            "text/plain": [
              "<Figure size 432x288 with 1 Axes>"
            ]
          },
          "metadata": {
            "tags": [],
            "needs_background": "light"
          }
        }
      ]
    },
    {
      "cell_type": "code",
      "metadata": {
        "id": "Pk3fG75YYLJ-"
      },
      "source": [
        "dataset = windowed_dataset(x_train,window_size,batch_size,shuffle_buffer=shuffle_buffer_size)\n",
        "model= tf.keras.models.Sequential([\n",
        "                                   tf.keras.layers.Conv1D(filters=500,kernel_size=5,strides =1,padding='causal',activation='relu',input_shape=[None,1]),\n",
        "                                   tf.keras.layers.Bidirectional(tf.keras.layers.LSTM(10,return_sequences=True)),\n",
        "                                   tf.keras.layers.Bidirectional(tf.keras.layers.LSTM(10,return_sequences=True)),\n",
        "                                   tf.keras.layers.Dense(30,activation='relu'),\n",
        "                                   tf.keras.layers.Dense(10,activation='relu'),\n",
        "                                   tf.keras.layers.Dense(1),\n",
        "                                   tf.keras.layers.Lambda(lambda x: x*400)\n",
        "])\n",
        "\n",
        "model.compile(loss= tf.keras.losses.Huber(),optimizer=tf.keras.optimizers.SGD(lr=1e-6,momentum=0.9),metrics=['mae'])"
      ],
      "execution_count": null,
      "outputs": []
    },
    {
      "cell_type": "code",
      "metadata": {
        "colab": {
          "base_uri": "https://localhost:8080/"
        },
        "id": "mzld8cB7YinK",
        "outputId": "8057511a-e63c-4119-bb59-cd3779508a29"
      },
      "source": [
        "history=model.fit(dataset,epochs=150)"
      ],
      "execution_count": null,
      "outputs": [
        {
          "output_type": "stream",
          "text": [
            "Epoch 1/150\n",
            "31/31 [==============================] - 1s 28ms/step - loss: 440.7542 - mae: 441.2542\n",
            "Epoch 2/150\n",
            "31/31 [==============================] - 1s 27ms/step - loss: 335.6413 - mae: 336.1413\n",
            "Epoch 3/150\n",
            "31/31 [==============================] - 1s 28ms/step - loss: 243.6617 - mae: 244.1613\n",
            "Epoch 4/150\n",
            "31/31 [==============================] - 1s 28ms/step - loss: 161.8173 - mae: 162.3167\n",
            "Epoch 5/150\n",
            "31/31 [==============================] - 1s 28ms/step - loss: 122.7881 - mae: 123.2871\n",
            "Epoch 6/150\n",
            "31/31 [==============================] - 1s 29ms/step - loss: 113.7109 - mae: 114.2099\n",
            "Epoch 7/150\n",
            "31/31 [==============================] - 1s 27ms/step - loss: 113.0203 - mae: 113.5196\n",
            "Epoch 8/150\n",
            "31/31 [==============================] - 1s 28ms/step - loss: 112.6940 - mae: 113.1932\n",
            "Epoch 9/150\n",
            "31/31 [==============================] - 1s 28ms/step - loss: 112.4695 - mae: 112.9686\n",
            "Epoch 10/150\n",
            "31/31 [==============================] - 1s 28ms/step - loss: 112.2061 - mae: 112.7052\n",
            "Epoch 11/150\n",
            "31/31 [==============================] - 1s 29ms/step - loss: 112.1458 - mae: 112.6446\n",
            "Epoch 12/150\n",
            "31/31 [==============================] - 1s 28ms/step - loss: 111.2961 - mae: 111.7950\n",
            "Epoch 13/150\n",
            "31/31 [==============================] - 1s 28ms/step - loss: 112.4753 - mae: 112.9744\n",
            "Epoch 14/150\n",
            "31/31 [==============================] - 1s 28ms/step - loss: 119.3098 - mae: 119.8089\n",
            "Epoch 15/150\n",
            "31/31 [==============================] - 1s 27ms/step - loss: 113.8856 - mae: 114.3847\n",
            "Epoch 16/150\n",
            "31/31 [==============================] - 1s 27ms/step - loss: 111.4661 - mae: 111.9651\n",
            "Epoch 17/150\n",
            "31/31 [==============================] - 1s 28ms/step - loss: 111.2364 - mae: 111.7354\n",
            "Epoch 18/150\n",
            "31/31 [==============================] - 1s 28ms/step - loss: 110.6713 - mae: 111.1703\n",
            "Epoch 19/150\n",
            "31/31 [==============================] - 1s 27ms/step - loss: 110.0526 - mae: 110.5517\n",
            "Epoch 20/150\n",
            "31/31 [==============================] - 1s 28ms/step - loss: 109.8814 - mae: 110.3803\n",
            "Epoch 21/150\n",
            "31/31 [==============================] - 1s 28ms/step - loss: 110.8769 - mae: 111.3759\n",
            "Epoch 22/150\n",
            "31/31 [==============================] - 1s 28ms/step - loss: 110.5324 - mae: 111.0316\n",
            "Epoch 23/150\n",
            "31/31 [==============================] - 1s 28ms/step - loss: 112.6015 - mae: 113.1007\n",
            "Epoch 24/150\n",
            "31/31 [==============================] - 1s 28ms/step - loss: 111.6583 - mae: 112.1571\n",
            "Epoch 25/150\n",
            "31/31 [==============================] - 1s 27ms/step - loss: 110.7508 - mae: 111.2498\n",
            "Epoch 26/150\n",
            "31/31 [==============================] - 1s 27ms/step - loss: 110.2080 - mae: 110.7070\n",
            "Epoch 27/150\n",
            "31/31 [==============================] - 1s 28ms/step - loss: 110.1510 - mae: 110.6499\n",
            "Epoch 28/150\n",
            "31/31 [==============================] - 1s 28ms/step - loss: 109.8639 - mae: 110.3627\n",
            "Epoch 29/150\n",
            "31/31 [==============================] - 1s 28ms/step - loss: 110.1370 - mae: 110.6359\n",
            "Epoch 30/150\n",
            "31/31 [==============================] - 1s 28ms/step - loss: 110.0134 - mae: 110.5123\n",
            "Epoch 31/150\n",
            "31/31 [==============================] - 1s 28ms/step - loss: 109.8674 - mae: 110.3663\n",
            "Epoch 32/150\n",
            "31/31 [==============================] - 1s 28ms/step - loss: 109.9026 - mae: 110.4018\n",
            "Epoch 33/150\n",
            "31/31 [==============================] - 1s 28ms/step - loss: 109.3368 - mae: 109.8358\n",
            "Epoch 34/150\n",
            "31/31 [==============================] - 1s 28ms/step - loss: 111.1851 - mae: 111.6842\n",
            "Epoch 35/150\n",
            "31/31 [==============================] - 1s 28ms/step - loss: 110.8094 - mae: 111.3087\n",
            "Epoch 36/150\n",
            "31/31 [==============================] - 1s 28ms/step - loss: 110.3754 - mae: 110.8740\n",
            "Epoch 37/150\n",
            "31/31 [==============================] - 1s 28ms/step - loss: 110.8034 - mae: 111.3021\n",
            "Epoch 38/150\n",
            "31/31 [==============================] - 1s 29ms/step - loss: 110.3939 - mae: 110.8927\n",
            "Epoch 39/150\n",
            "31/31 [==============================] - 1s 28ms/step - loss: 110.2735 - mae: 110.7724\n",
            "Epoch 40/150\n",
            "31/31 [==============================] - 1s 28ms/step - loss: 109.6468 - mae: 110.1458\n",
            "Epoch 41/150\n",
            "31/31 [==============================] - 1s 29ms/step - loss: 110.3621 - mae: 110.8610\n",
            "Epoch 42/150\n",
            "31/31 [==============================] - 1s 28ms/step - loss: 110.2286 - mae: 110.7276\n",
            "Epoch 43/150\n",
            "31/31 [==============================] - 1s 28ms/step - loss: 109.9791 - mae: 110.4781\n",
            "Epoch 44/150\n",
            "31/31 [==============================] - 1s 28ms/step - loss: 109.6176 - mae: 110.1168\n",
            "Epoch 45/150\n",
            "31/31 [==============================] - 1s 28ms/step - loss: 109.8133 - mae: 110.3123\n",
            "Epoch 46/150\n",
            "31/31 [==============================] - 1s 28ms/step - loss: 109.4818 - mae: 109.9808\n",
            "Epoch 47/150\n",
            "31/31 [==============================] - 1s 28ms/step - loss: 108.5554 - mae: 109.0543\n",
            "Epoch 48/150\n",
            "31/31 [==============================] - 1s 28ms/step - loss: 108.6997 - mae: 109.1989\n",
            "Epoch 49/150\n",
            "31/31 [==============================] - 1s 29ms/step - loss: 110.0510 - mae: 110.5500\n",
            "Epoch 50/150\n",
            "31/31 [==============================] - 1s 28ms/step - loss: 110.1567 - mae: 110.6557\n",
            "Epoch 51/150\n",
            "31/31 [==============================] - 1s 28ms/step - loss: 109.9390 - mae: 110.4383\n",
            "Epoch 52/150\n",
            "31/31 [==============================] - 1s 28ms/step - loss: 110.2136 - mae: 110.7123\n",
            "Epoch 53/150\n",
            "31/31 [==============================] - 1s 28ms/step - loss: 109.2086 - mae: 109.7078\n",
            "Epoch 54/150\n",
            "31/31 [==============================] - 1s 28ms/step - loss: 108.9816 - mae: 109.4803\n",
            "Epoch 55/150\n",
            "31/31 [==============================] - 1s 29ms/step - loss: 109.6240 - mae: 110.1228\n",
            "Epoch 56/150\n",
            "31/31 [==============================] - 1s 28ms/step - loss: 109.2356 - mae: 109.7343\n",
            "Epoch 57/150\n",
            "31/31 [==============================] - 1s 28ms/step - loss: 108.6384 - mae: 109.1373\n",
            "Epoch 58/150\n",
            "31/31 [==============================] - 1s 28ms/step - loss: 107.9593 - mae: 108.4584\n",
            "Epoch 59/150\n",
            "31/31 [==============================] - 1s 29ms/step - loss: 112.2190 - mae: 112.7178\n",
            "Epoch 60/150\n",
            "31/31 [==============================] - 1s 28ms/step - loss: 112.2044 - mae: 112.7035\n",
            "Epoch 61/150\n",
            "31/31 [==============================] - 1s 28ms/step - loss: 110.1644 - mae: 110.6634\n",
            "Epoch 62/150\n",
            "31/31 [==============================] - 1s 28ms/step - loss: 109.2571 - mae: 109.7564\n",
            "Epoch 63/150\n",
            "31/31 [==============================] - 1s 28ms/step - loss: 107.6553 - mae: 108.1541\n",
            "Epoch 64/150\n",
            "31/31 [==============================] - 1s 28ms/step - loss: 107.3307 - mae: 107.8297\n",
            "Epoch 65/150\n",
            "31/31 [==============================] - 1s 28ms/step - loss: 106.8144 - mae: 107.3135\n",
            "Epoch 66/150\n",
            "31/31 [==============================] - 1s 28ms/step - loss: 105.4919 - mae: 105.9908\n",
            "Epoch 67/150\n",
            "31/31 [==============================] - 1s 28ms/step - loss: 106.3499 - mae: 106.8485\n",
            "Epoch 68/150\n",
            "31/31 [==============================] - 1s 28ms/step - loss: 105.7017 - mae: 106.2005\n",
            "Epoch 69/150\n",
            "31/31 [==============================] - 1s 28ms/step - loss: 105.5695 - mae: 106.0683\n",
            "Epoch 70/150\n",
            "31/31 [==============================] - 1s 29ms/step - loss: 109.5867 - mae: 110.0859\n",
            "Epoch 71/150\n",
            "31/31 [==============================] - 1s 28ms/step - loss: 105.7444 - mae: 106.2436\n",
            "Epoch 72/150\n",
            "31/31 [==============================] - 1s 28ms/step - loss: 109.7747 - mae: 110.2733\n",
            "Epoch 73/150\n",
            "31/31 [==============================] - 1s 28ms/step - loss: 108.0043 - mae: 108.5034\n",
            "Epoch 74/150\n",
            "31/31 [==============================] - 1s 28ms/step - loss: 103.6306 - mae: 104.1291\n",
            "Epoch 75/150\n",
            "31/31 [==============================] - 1s 28ms/step - loss: 102.4381 - mae: 102.9372\n",
            "Epoch 76/150\n",
            "31/31 [==============================] - 1s 28ms/step - loss: 100.5015 - mae: 101.0007\n",
            "Epoch 77/150\n",
            "31/31 [==============================] - 1s 28ms/step - loss: 104.8407 - mae: 105.3398\n",
            "Epoch 78/150\n",
            "31/31 [==============================] - 1s 29ms/step - loss: 106.5967 - mae: 107.0953\n",
            "Epoch 79/150\n",
            "31/31 [==============================] - 1s 28ms/step - loss: 103.8180 - mae: 104.3171\n",
            "Epoch 80/150\n",
            "31/31 [==============================] - 1s 28ms/step - loss: 106.3973 - mae: 106.8963\n",
            "Epoch 81/150\n",
            "31/31 [==============================] - 1s 29ms/step - loss: 106.2898 - mae: 106.7887\n",
            "Epoch 82/150\n",
            "31/31 [==============================] - 1s 28ms/step - loss: 104.4348 - mae: 104.9337\n",
            "Epoch 83/150\n",
            "31/31 [==============================] - 1s 28ms/step - loss: 103.4524 - mae: 103.9516\n",
            "Epoch 84/150\n",
            "31/31 [==============================] - 1s 28ms/step - loss: 108.3613 - mae: 108.8603\n",
            "Epoch 85/150\n",
            "31/31 [==============================] - 1s 28ms/step - loss: 109.8632 - mae: 110.3623\n",
            "Epoch 86/150\n",
            "31/31 [==============================] - 1s 28ms/step - loss: 106.4750 - mae: 106.9739\n",
            "Epoch 87/150\n",
            "31/31 [==============================] - 1s 28ms/step - loss: 110.0153 - mae: 110.5145\n",
            "Epoch 88/150\n",
            "31/31 [==============================] - 1s 28ms/step - loss: 107.5314 - mae: 108.0304\n",
            "Epoch 89/150\n",
            "31/31 [==============================] - 1s 29ms/step - loss: 105.9056 - mae: 106.4044\n",
            "Epoch 90/150\n",
            "31/31 [==============================] - 1s 28ms/step - loss: 105.4084 - mae: 105.9076\n",
            "Epoch 91/150\n",
            "31/31 [==============================] - 1s 29ms/step - loss: 104.4759 - mae: 104.9748\n",
            "Epoch 92/150\n",
            "31/31 [==============================] - 1s 28ms/step - loss: 106.1826 - mae: 106.6815\n",
            "Epoch 93/150\n",
            "31/31 [==============================] - 1s 28ms/step - loss: 105.8270 - mae: 106.3263\n",
            "Epoch 94/150\n",
            "31/31 [==============================] - 1s 28ms/step - loss: 100.4558 - mae: 100.9542\n",
            "Epoch 95/150\n",
            "31/31 [==============================] - 1s 28ms/step - loss: 118.6386 - mae: 119.1376\n",
            "Epoch 96/150\n",
            "31/31 [==============================] - 1s 28ms/step - loss: 111.3687 - mae: 111.8679\n",
            "Epoch 97/150\n",
            "31/31 [==============================] - 1s 28ms/step - loss: 109.9598 - mae: 110.4589\n",
            "Epoch 98/150\n",
            "31/31 [==============================] - 1s 28ms/step - loss: 109.3100 - mae: 109.8090\n",
            "Epoch 99/150\n",
            "31/31 [==============================] - 1s 28ms/step - loss: 108.9479 - mae: 109.4470\n",
            "Epoch 100/150\n",
            "31/31 [==============================] - 1s 28ms/step - loss: 108.5997 - mae: 109.0988\n",
            "Epoch 101/150\n",
            "31/31 [==============================] - 1s 29ms/step - loss: 108.0683 - mae: 108.5670\n",
            "Epoch 102/150\n",
            "31/31 [==============================] - 1s 28ms/step - loss: 105.3858 - mae: 105.8848\n",
            "Epoch 103/150\n",
            "31/31 [==============================] - 1s 28ms/step - loss: 104.6793 - mae: 105.1784\n",
            "Epoch 104/150\n",
            "31/31 [==============================] - 1s 28ms/step - loss: 105.1819 - mae: 105.6810\n",
            "Epoch 105/150\n",
            "31/31 [==============================] - 1s 28ms/step - loss: 105.6973 - mae: 106.1965\n",
            "Epoch 106/150\n",
            "31/31 [==============================] - 1s 28ms/step - loss: 105.7731 - mae: 106.2720\n",
            "Epoch 107/150\n",
            "31/31 [==============================] - 1s 28ms/step - loss: 100.8599 - mae: 101.3589\n",
            "Epoch 108/150\n",
            "31/31 [==============================] - 1s 28ms/step - loss: 99.6687 - mae: 100.1678\n",
            "Epoch 109/150\n",
            "31/31 [==============================] - 1s 28ms/step - loss: 97.9075 - mae: 98.4063\n",
            "Epoch 110/150\n",
            "31/31 [==============================] - 1s 30ms/step - loss: 98.9911 - mae: 99.4903\n",
            "Epoch 111/150\n",
            "31/31 [==============================] - 1s 29ms/step - loss: 98.5014 - mae: 99.0002\n",
            "Epoch 112/150\n",
            "31/31 [==============================] - 1s 30ms/step - loss: 96.7000 - mae: 97.1989\n",
            "Epoch 113/150\n",
            "31/31 [==============================] - 1s 29ms/step - loss: 92.1545 - mae: 92.6534\n",
            "Epoch 114/150\n",
            "31/31 [==============================] - 1s 29ms/step - loss: 99.8128 - mae: 100.3115\n",
            "Epoch 115/150\n",
            "31/31 [==============================] - 1s 30ms/step - loss: 99.7736 - mae: 100.2726\n",
            "Epoch 116/150\n",
            "31/31 [==============================] - 1s 29ms/step - loss: 107.4342 - mae: 107.9334\n",
            "Epoch 117/150\n",
            "31/31 [==============================] - 1s 29ms/step - loss: 100.8959 - mae: 101.3949\n",
            "Epoch 118/150\n",
            "31/31 [==============================] - 1s 29ms/step - loss: 105.9371 - mae: 106.4359\n",
            "Epoch 119/150\n",
            "31/31 [==============================] - 1s 28ms/step - loss: 105.8997 - mae: 106.3985\n",
            "Epoch 120/150\n",
            "31/31 [==============================] - 1s 28ms/step - loss: 104.8349 - mae: 105.3338\n",
            "Epoch 121/150\n",
            "31/31 [==============================] - 1s 29ms/step - loss: 107.1454 - mae: 107.6445\n",
            "Epoch 122/150\n",
            "31/31 [==============================] - 1s 29ms/step - loss: 112.5468 - mae: 113.0456\n",
            "Epoch 123/150\n",
            "31/31 [==============================] - 1s 28ms/step - loss: 129.5676 - mae: 130.0669\n",
            "Epoch 124/150\n",
            "31/31 [==============================] - 1s 28ms/step - loss: 115.5349 - mae: 116.0340\n",
            "Epoch 125/150\n",
            "31/31 [==============================] - 1s 29ms/step - loss: 113.2940 - mae: 113.7928\n",
            "Epoch 126/150\n",
            "31/31 [==============================] - 1s 29ms/step - loss: 111.4352 - mae: 111.9342\n",
            "Epoch 127/150\n",
            "31/31 [==============================] - 1s 29ms/step - loss: 110.4170 - mae: 110.9161\n",
            "Epoch 128/150\n",
            "31/31 [==============================] - 1s 30ms/step - loss: 109.3817 - mae: 109.8807\n",
            "Epoch 129/150\n",
            "31/31 [==============================] - 1s 29ms/step - loss: 106.7606 - mae: 107.2594\n",
            "Epoch 130/150\n",
            "31/31 [==============================] - 1s 29ms/step - loss: 103.7651 - mae: 104.2642\n",
            "Epoch 131/150\n",
            "31/31 [==============================] - 1s 30ms/step - loss: 109.2231 - mae: 109.7222\n",
            "Epoch 132/150\n",
            "31/31 [==============================] - 1s 29ms/step - loss: 108.2737 - mae: 108.7727\n",
            "Epoch 133/150\n",
            "31/31 [==============================] - 1s 29ms/step - loss: 104.0450 - mae: 104.5438\n",
            "Epoch 134/150\n",
            "31/31 [==============================] - 1s 29ms/step - loss: 116.7232 - mae: 117.2222\n",
            "Epoch 135/150\n",
            "31/31 [==============================] - 1s 29ms/step - loss: 122.1610 - mae: 122.6602\n",
            "Epoch 136/150\n",
            "31/31 [==============================] - 1s 30ms/step - loss: 114.6678 - mae: 115.1669\n",
            "Epoch 137/150\n",
            "31/31 [==============================] - 1s 28ms/step - loss: 113.9346 - mae: 114.4336\n",
            "Epoch 138/150\n",
            "31/31 [==============================] - 1s 28ms/step - loss: 113.7511 - mae: 114.2501\n",
            "Epoch 139/150\n",
            "31/31 [==============================] - 1s 28ms/step - loss: 113.5208 - mae: 114.0196\n",
            "Epoch 140/150\n",
            "31/31 [==============================] - 1s 29ms/step - loss: 113.3663 - mae: 113.8652\n",
            "Epoch 141/150\n",
            "31/31 [==============================] - 1s 28ms/step - loss: 113.1941 - mae: 113.6931\n",
            "Epoch 142/150\n",
            "31/31 [==============================] - 1s 30ms/step - loss: 112.9460 - mae: 113.4449\n",
            "Epoch 143/150\n",
            "31/31 [==============================] - 1s 29ms/step - loss: 112.7837 - mae: 113.2828\n",
            "Epoch 144/150\n",
            "31/31 [==============================] - 1s 28ms/step - loss: 112.7301 - mae: 113.2289\n",
            "Epoch 145/150\n",
            "31/31 [==============================] - 1s 28ms/step - loss: 112.7772 - mae: 113.2760\n",
            "Epoch 146/150\n",
            "31/31 [==============================] - 1s 28ms/step - loss: 112.8572 - mae: 113.3563\n",
            "Epoch 147/150\n",
            "31/31 [==============================] - 1s 28ms/step - loss: 112.7765 - mae: 113.2753\n",
            "Epoch 148/150\n",
            "31/31 [==============================] - 1s 28ms/step - loss: 112.5558 - mae: 113.0546\n",
            "Epoch 149/150\n",
            "31/31 [==============================] - 1s 29ms/step - loss: 112.4169 - mae: 112.9158\n",
            "Epoch 150/150\n",
            "31/31 [==============================] - 1s 28ms/step - loss: 112.3525 - mae: 112.8514\n"
          ],
          "name": "stdout"
        }
      ]
    },
    {
      "cell_type": "code",
      "metadata": {
        "colab": {
          "base_uri": "https://localhost:8080/",
          "height": 264
        },
        "id": "gSmnTLDlYoik",
        "outputId": "a95bc931-39c7-4898-ae07-d34d9a71bccd"
      },
      "source": [
        "loss= history.history['loss']\n",
        "mae = history.history['mae']\n",
        "epochs= range(len(loss))\n",
        "plt.plot(epochs,loss,'r')\n",
        "plt.plot(epochs,mae,'b')\n",
        "plt.show()"
      ],
      "execution_count": null,
      "outputs": [
        {
          "output_type": "display_data",
          "data": {
            "image/png": "[encoded data removed]",
            "text/plain": [
              "<Figure size 432x288 with 1 Axes>"
            ]
          },
          "metadata": {
            "tags": [],
            "needs_background": "light"
          }
        }
      ]
    },
    {
      "cell_type": "code",
      "metadata": {
        "colab": {
          "base_uri": "https://localhost:8080/",
          "height": 387
        },
        "id": "I-9U9_g7Y32M",
        "outputId": "18b51fec-915a-4131-9b8c-8755ba77dc84"
      },
      "source": [
        "rnn_forecast = model_forecast(model,series[...,np.newaxis],window_size)\n",
        "rnn_forecast= rnn_forecast[split_time-window_size:-1,-1,0]\n",
        "plt.figure(figsize=(10,6))\n",
        "plot_series(time_valid,x_valid)\n",
        "plot_series(time_valid,rnn_forecast)\n",
        "plt.show()"
      ],
      "execution_count": null,
      "outputs": [
        {
          "output_type": "display_data",
          "data": {
            "image/png": "[encoded data removed]",
            "text/plain": [
              "<Figure size 720x432 with 1 Axes>"
            ]
          },
          "metadata": {
            "tags": [],
            "needs_background": "light"
          }
        }
      ]
    },
    {
      "cell_type": "code",
      "metadata": {
        "colab": {
          "base_uri": "https://localhost:8080/"
        },
        "id": "EfqQALLLZR3x",
        "outputId": "94750019-e2d3-4fe8-9baa-5ee8f8a2bf87"
      },
      "source": [
        "tf.keras.metrics.mean_absolute_error(x_valid,rnn_forecast).numpy()"
      ],
      "execution_count": null,
      "outputs": [
        {
          "output_type": "execute_result",
          "data": {
            "text/plain": [
              "332.70474"
            ]
          },
          "metadata": {
            "tags": []
          },
          "execution_count": 80
        }
      ]
    },
    {
      "cell_type": "code",
      "metadata": {
        "id": "PnhPwitHZZ_5"
      },
      "source": [
        ""
      ],
      "execution_count": null,
      "outputs": []
    }
  ]
}